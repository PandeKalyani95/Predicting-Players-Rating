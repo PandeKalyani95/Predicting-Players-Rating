{
 "cells": [
  {
   "cell_type": "markdown",
   "metadata": {},
   "source": [
    "# **Step 1: `Reading and understanding the data`**"
   ]
  },
  {
   "cell_type": "code",
   "execution_count": 77,
   "metadata": {},
   "outputs": [],
   "source": [
    "import sqlite3\n",
    "import numpy as np\n",
    "import pandas as pd\n",
    "import matplotlib.pyplot as plt\n",
    "import seaborn as sns\n",
    "%matplotlib inline\n",
    "\n",
    "import statsmodels.api as sm\n",
    "from sklearn.feature_selection import SelectKBest, chi2\n",
    "\n",
    "from sklearn.preprocessing import MinMaxScaler\n",
    "from sklearn.model_selection import train_test_split, GridSearchCV, ShuffleSplit, RandomizedSearchCV, KFold, cross_val_score\n",
    "\n",
    "from sklearn.tree import DecisionTreeRegressor\n",
    "from sklearn.ensemble import RandomForestRegressor\n",
    "from xgboost.sklearn import XGBRegressor\n",
    "from sklearn.linear_model import LinearRegression\n",
    "from sklearn.linear_model import Ridge, RidgeCV, Lasso, LassoCV\n",
    "\n",
    "from sklearn.metrics import r2_score, mean_squared_error"
   ]
  },
  {
   "cell_type": "markdown",
   "metadata": {},
   "source": [
    "- `SQLite` is a C library that provides a lightweight disk-based database that doesn’t require a separate server process and allows accessing the database using a nonstandard variant of the SQL query language. Some applications can use SQLite for internal data storage."
   ]
  },
  {
   "cell_type": "code",
   "execution_count": 78,
   "metadata": {},
   "outputs": [],
   "source": [
    "database = sqlite3.connect('database.sqlite')"
   ]
  },
  {
   "cell_type": "code",
   "execution_count": 79,
   "metadata": {},
   "outputs": [],
   "source": [
    "data = pd.read_sql_query(\"SELECT * FROM Player_Attributes\", database)"
   ]
  },
  {
   "cell_type": "code",
   "execution_count": 80,
   "metadata": {},
   "outputs": [
    {
     "data": {
      "text/html": [
       "<div>\n",
       "<style scoped>\n",
       "    .dataframe tbody tr th:only-of-type {\n",
       "        vertical-align: middle;\n",
       "    }\n",
       "\n",
       "    .dataframe tbody tr th {\n",
       "        vertical-align: top;\n",
       "    }\n",
       "\n",
       "    .dataframe thead th {\n",
       "        text-align: right;\n",
       "    }\n",
       "</style>\n",
       "<table border=\"1\" class=\"dataframe\">\n",
       "  <thead>\n",
       "    <tr style=\"text-align: right;\">\n",
       "      <th></th>\n",
       "      <th>id</th>\n",
       "      <th>player_fifa_api_id</th>\n",
       "      <th>player_api_id</th>\n",
       "      <th>date</th>\n",
       "      <th>overall_rating</th>\n",
       "      <th>potential</th>\n",
       "      <th>preferred_foot</th>\n",
       "      <th>attacking_work_rate</th>\n",
       "      <th>defensive_work_rate</th>\n",
       "      <th>crossing</th>\n",
       "      <th>...</th>\n",
       "      <th>vision</th>\n",
       "      <th>penalties</th>\n",
       "      <th>marking</th>\n",
       "      <th>standing_tackle</th>\n",
       "      <th>sliding_tackle</th>\n",
       "      <th>gk_diving</th>\n",
       "      <th>gk_handling</th>\n",
       "      <th>gk_kicking</th>\n",
       "      <th>gk_positioning</th>\n",
       "      <th>gk_reflexes</th>\n",
       "    </tr>\n",
       "  </thead>\n",
       "  <tbody>\n",
       "    <tr>\n",
       "      <th>0</th>\n",
       "      <td>1</td>\n",
       "      <td>218353</td>\n",
       "      <td>505942</td>\n",
       "      <td>2016-02-18 00:00:00</td>\n",
       "      <td>67.0</td>\n",
       "      <td>71.0</td>\n",
       "      <td>right</td>\n",
       "      <td>medium</td>\n",
       "      <td>medium</td>\n",
       "      <td>49.0</td>\n",
       "      <td>...</td>\n",
       "      <td>54.0</td>\n",
       "      <td>48.0</td>\n",
       "      <td>65.0</td>\n",
       "      <td>69.0</td>\n",
       "      <td>69.0</td>\n",
       "      <td>6.0</td>\n",
       "      <td>11.0</td>\n",
       "      <td>10.0</td>\n",
       "      <td>8.0</td>\n",
       "      <td>8.0</td>\n",
       "    </tr>\n",
       "    <tr>\n",
       "      <th>1</th>\n",
       "      <td>2</td>\n",
       "      <td>218353</td>\n",
       "      <td>505942</td>\n",
       "      <td>2015-11-19 00:00:00</td>\n",
       "      <td>67.0</td>\n",
       "      <td>71.0</td>\n",
       "      <td>right</td>\n",
       "      <td>medium</td>\n",
       "      <td>medium</td>\n",
       "      <td>49.0</td>\n",
       "      <td>...</td>\n",
       "      <td>54.0</td>\n",
       "      <td>48.0</td>\n",
       "      <td>65.0</td>\n",
       "      <td>69.0</td>\n",
       "      <td>69.0</td>\n",
       "      <td>6.0</td>\n",
       "      <td>11.0</td>\n",
       "      <td>10.0</td>\n",
       "      <td>8.0</td>\n",
       "      <td>8.0</td>\n",
       "    </tr>\n",
       "    <tr>\n",
       "      <th>2</th>\n",
       "      <td>3</td>\n",
       "      <td>218353</td>\n",
       "      <td>505942</td>\n",
       "      <td>2015-09-21 00:00:00</td>\n",
       "      <td>62.0</td>\n",
       "      <td>66.0</td>\n",
       "      <td>right</td>\n",
       "      <td>medium</td>\n",
       "      <td>medium</td>\n",
       "      <td>49.0</td>\n",
       "      <td>...</td>\n",
       "      <td>54.0</td>\n",
       "      <td>48.0</td>\n",
       "      <td>65.0</td>\n",
       "      <td>66.0</td>\n",
       "      <td>69.0</td>\n",
       "      <td>6.0</td>\n",
       "      <td>11.0</td>\n",
       "      <td>10.0</td>\n",
       "      <td>8.0</td>\n",
       "      <td>8.0</td>\n",
       "    </tr>\n",
       "    <tr>\n",
       "      <th>3</th>\n",
       "      <td>4</td>\n",
       "      <td>218353</td>\n",
       "      <td>505942</td>\n",
       "      <td>2015-03-20 00:00:00</td>\n",
       "      <td>61.0</td>\n",
       "      <td>65.0</td>\n",
       "      <td>right</td>\n",
       "      <td>medium</td>\n",
       "      <td>medium</td>\n",
       "      <td>48.0</td>\n",
       "      <td>...</td>\n",
       "      <td>53.0</td>\n",
       "      <td>47.0</td>\n",
       "      <td>62.0</td>\n",
       "      <td>63.0</td>\n",
       "      <td>66.0</td>\n",
       "      <td>5.0</td>\n",
       "      <td>10.0</td>\n",
       "      <td>9.0</td>\n",
       "      <td>7.0</td>\n",
       "      <td>7.0</td>\n",
       "    </tr>\n",
       "    <tr>\n",
       "      <th>4</th>\n",
       "      <td>5</td>\n",
       "      <td>218353</td>\n",
       "      <td>505942</td>\n",
       "      <td>2007-02-22 00:00:00</td>\n",
       "      <td>61.0</td>\n",
       "      <td>65.0</td>\n",
       "      <td>right</td>\n",
       "      <td>medium</td>\n",
       "      <td>medium</td>\n",
       "      <td>48.0</td>\n",
       "      <td>...</td>\n",
       "      <td>53.0</td>\n",
       "      <td>47.0</td>\n",
       "      <td>62.0</td>\n",
       "      <td>63.0</td>\n",
       "      <td>66.0</td>\n",
       "      <td>5.0</td>\n",
       "      <td>10.0</td>\n",
       "      <td>9.0</td>\n",
       "      <td>7.0</td>\n",
       "      <td>7.0</td>\n",
       "    </tr>\n",
       "  </tbody>\n",
       "</table>\n",
       "<p>5 rows × 42 columns</p>\n",
       "</div>"
      ],
      "text/plain": [
       "   id  player_fifa_api_id  player_api_id                 date  overall_rating  \\\n",
       "0   1              218353         505942  2016-02-18 00:00:00            67.0   \n",
       "1   2              218353         505942  2015-11-19 00:00:00            67.0   \n",
       "2   3              218353         505942  2015-09-21 00:00:00            62.0   \n",
       "3   4              218353         505942  2015-03-20 00:00:00            61.0   \n",
       "4   5              218353         505942  2007-02-22 00:00:00            61.0   \n",
       "\n",
       "   potential preferred_foot attacking_work_rate defensive_work_rate  crossing  \\\n",
       "0       71.0          right              medium              medium      49.0   \n",
       "1       71.0          right              medium              medium      49.0   \n",
       "2       66.0          right              medium              medium      49.0   \n",
       "3       65.0          right              medium              medium      48.0   \n",
       "4       65.0          right              medium              medium      48.0   \n",
       "\n",
       "   ...  vision  penalties  marking  standing_tackle  sliding_tackle  \\\n",
       "0  ...    54.0       48.0     65.0             69.0            69.0   \n",
       "1  ...    54.0       48.0     65.0             69.0            69.0   \n",
       "2  ...    54.0       48.0     65.0             66.0            69.0   \n",
       "3  ...    53.0       47.0     62.0             63.0            66.0   \n",
       "4  ...    53.0       47.0     62.0             63.0            66.0   \n",
       "\n",
       "   gk_diving  gk_handling  gk_kicking  gk_positioning  gk_reflexes  \n",
       "0        6.0         11.0        10.0             8.0          8.0  \n",
       "1        6.0         11.0        10.0             8.0          8.0  \n",
       "2        6.0         11.0        10.0             8.0          8.0  \n",
       "3        5.0         10.0         9.0             7.0          7.0  \n",
       "4        5.0         10.0         9.0             7.0          7.0  \n",
       "\n",
       "[5 rows x 42 columns]"
      ]
     },
     "execution_count": 80,
     "metadata": {},
     "output_type": "execute_result"
    }
   ],
   "source": [
    "data.head()"
   ]
  },
  {
   "cell_type": "markdown",
   "metadata": {},
   "source": [
    "# **Step 2: `Data Description`**\n",
    "- A story of what data is all about and the features present in the data\n",
    "  ***About the Dataset***\n",
    "    - The ultimate Soccer database for data analysis and machine learning\n",
    "   - The dataset comes in the form of an SQL database and contains statistics of about 25,000 football matches, from the top football league of 11 European Countries. It covers seasons from 2008 to 2016 and contains match statistics (i.e: scores, corners, fouls etc...) as well as the team formations, with player names and a pair of coordinates to indicate their position on the pitch.\n",
    "     - +25,000 matches\n",
    "     - +10,000 players\n",
    "     - 11 European Countries with their lead championship\n",
    "     - Seasons 2008 to 2016\n",
    "     - Players and Teams' attributes* sourced from EA Sports' FIFA video game series, including the weekly updates\n",
    "     - Team line up with squad formation (X, Y coordinates)\n",
    "     - Betting odds from up to 10 providers\n",
    "     - Detailed match events (goal types, possession, corner, cross, fouls, cards etc...) for +10,000 matches\n",
    "  - The dataset also has a set of about 35 statistics for each player, derived from EA Sports' FIFA video games. It is not just the stats that come with a new version of the game but also the weekly updates. So for instance if a player has performed poorly over a period of time and his stats get impacted in FIFA, you would normally see the same in the dataset."
   ]
  },
  {
   "cell_type": "code",
   "execution_count": 81,
   "metadata": {},
   "outputs": [
    {
     "name": "stdout",
     "output_type": "stream",
     "text": [
      "<class 'pandas.core.frame.DataFrame'>\n",
      "RangeIndex: 183978 entries, 0 to 183977\n",
      "Data columns (total 42 columns):\n",
      " #   Column               Non-Null Count   Dtype  \n",
      "---  ------               --------------   -----  \n",
      " 0   id                   183978 non-null  int64  \n",
      " 1   player_fifa_api_id   183978 non-null  int64  \n",
      " 2   player_api_id        183978 non-null  int64  \n",
      " 3   date                 183978 non-null  object \n",
      " 4   overall_rating       183142 non-null  float64\n",
      " 5   potential            183142 non-null  float64\n",
      " 6   preferred_foot       183142 non-null  object \n",
      " 7   attacking_work_rate  180748 non-null  object \n",
      " 8   defensive_work_rate  183142 non-null  object \n",
      " 9   crossing             183142 non-null  float64\n",
      " 10  finishing            183142 non-null  float64\n",
      " 11  heading_accuracy     183142 non-null  float64\n",
      " 12  short_passing        183142 non-null  float64\n",
      " 13  volleys              181265 non-null  float64\n",
      " 14  dribbling            183142 non-null  float64\n",
      " 15  curve                181265 non-null  float64\n",
      " 16  free_kick_accuracy   183142 non-null  float64\n",
      " 17  long_passing         183142 non-null  float64\n",
      " 18  ball_control         183142 non-null  float64\n",
      " 19  acceleration         183142 non-null  float64\n",
      " 20  sprint_speed         183142 non-null  float64\n",
      " 21  agility              181265 non-null  float64\n",
      " 22  reactions            183142 non-null  float64\n",
      " 23  balance              181265 non-null  float64\n",
      " 24  shot_power           183142 non-null  float64\n",
      " 25  jumping              181265 non-null  float64\n",
      " 26  stamina              183142 non-null  float64\n",
      " 27  strength             183142 non-null  float64\n",
      " 28  long_shots           183142 non-null  float64\n",
      " 29  aggression           183142 non-null  float64\n",
      " 30  interceptions        183142 non-null  float64\n",
      " 31  positioning          183142 non-null  float64\n",
      " 32  vision               181265 non-null  float64\n",
      " 33  penalties            183142 non-null  float64\n",
      " 34  marking              183142 non-null  float64\n",
      " 35  standing_tackle      183142 non-null  float64\n",
      " 36  sliding_tackle       181265 non-null  float64\n",
      " 37  gk_diving            183142 non-null  float64\n",
      " 38  gk_handling          183142 non-null  float64\n",
      " 39  gk_kicking           183142 non-null  float64\n",
      " 40  gk_positioning       183142 non-null  float64\n",
      " 41  gk_reflexes          183142 non-null  float64\n",
      "dtypes: float64(35), int64(3), object(4)\n",
      "memory usage: 59.0+ MB\n"
     ]
    }
   ],
   "source": [
    "data.info()"
   ]
  },
  {
   "cell_type": "code",
   "execution_count": 82,
   "metadata": {},
   "outputs": [
    {
     "data": {
      "text/plain": [
       "id                        0\n",
       "player_fifa_api_id        0\n",
       "player_api_id             0\n",
       "date                      0\n",
       "overall_rating          836\n",
       "potential               836\n",
       "preferred_foot          836\n",
       "attacking_work_rate    3230\n",
       "defensive_work_rate     836\n",
       "crossing                836\n",
       "finishing               836\n",
       "heading_accuracy        836\n",
       "short_passing           836\n",
       "volleys                2713\n",
       "dribbling               836\n",
       "curve                  2713\n",
       "free_kick_accuracy      836\n",
       "long_passing            836\n",
       "ball_control            836\n",
       "acceleration            836\n",
       "sprint_speed            836\n",
       "agility                2713\n",
       "reactions               836\n",
       "balance                2713\n",
       "shot_power              836\n",
       "jumping                2713\n",
       "stamina                 836\n",
       "strength                836\n",
       "long_shots              836\n",
       "aggression              836\n",
       "interceptions           836\n",
       "positioning             836\n",
       "vision                 2713\n",
       "penalties               836\n",
       "marking                 836\n",
       "standing_tackle         836\n",
       "sliding_tackle         2713\n",
       "gk_diving               836\n",
       "gk_handling             836\n",
       "gk_kicking              836\n",
       "gk_positioning          836\n",
       "gk_reflexes             836\n",
       "dtype: int64"
      ]
     },
     "execution_count": 82,
     "metadata": {},
     "output_type": "execute_result"
    }
   ],
   "source": [
    "data.isnull().sum()"
   ]
  },
  {
   "cell_type": "code",
   "execution_count": 83,
   "metadata": {},
   "outputs": [
    {
     "data": {
      "text/plain": [
       "(183978, 42)"
      ]
     },
     "execution_count": 83,
     "metadata": {},
     "output_type": "execute_result"
    }
   ],
   "source": [
    "data.shape"
   ]
  },
  {
   "cell_type": "markdown",
   "metadata": {},
   "source": [
    "# **Step 3: `Handling Null values`**\n"
   ]
  },
  {
   "cell_type": "code",
   "execution_count": 84,
   "metadata": {},
   "outputs": [],
   "source": [
    "data1 = data[['overall_rating','attacking_work_rate','crossing','heading_accuracy','vision','dribbling','sliding_tackle']].isnull().sum()/data.shape[0]*100"
   ]
  },
  {
   "cell_type": "code",
   "execution_count": 85,
   "metadata": {},
   "outputs": [
    {
     "data": {
      "image/png": "[encoded data removed]",
      "text/plain": [
       "<Figure size 432x288 with 1 Axes>"
      ]
     },
     "metadata": {
      "needs_background": "light"
     },
     "output_type": "display_data"
    }
   ],
   "source": [
    "data1.plot.bar()\n",
    "plt.show()"
   ]
  },
  {
   "cell_type": "markdown",
   "metadata": {},
   "source": [
    "- Removing rows which contains Null Values in **Target** Column `(Overall Rating)`\n",
    "- Target variable contains **836 null values**, its better to remove those."
   ]
  },
  {
   "cell_type": "code",
   "execution_count": 86,
   "metadata": {},
   "outputs": [
    {
     "data": {
      "text/plain": [
       "(183142, 42)"
      ]
     },
     "execution_count": 86,
     "metadata": {},
     "output_type": "execute_result"
    }
   ],
   "source": [
    "data = data.dropna(axis=0 , subset=['overall_rating'])\n",
    "data.shape  # Current dimensions of Dataset"
   ]
  },
  {
   "cell_type": "code",
   "execution_count": 87,
   "metadata": {},
   "outputs": [
    {
     "name": "stdout",
     "output_type": "stream",
     "text": [
      "Total null values present in the dataset:  15533\n"
     ]
    }
   ],
   "source": [
    "print('Total null values present in the dataset: ',data.isnull().sum().sum())"
   ]
  },
  {
   "cell_type": "markdown",
   "metadata": {},
   "source": [
    "- Removing Null values from Other columns. There are some rows which contains `null values` in most number of columns, so its better to drop them.\n",
    "\n",
    "- **Dropping all the rows contains Null values in 'volleys' columns** since most of the columns contains `null in same records`"
   ]
  },
  {
   "cell_type": "code",
   "execution_count": 88,
   "metadata": {},
   "outputs": [],
   "source": [
    "data = data.dropna(axis=0, subset=['volleys'])  "
   ]
  },
  {
   "cell_type": "code",
   "execution_count": 89,
   "metadata": {},
   "outputs": [
    {
     "data": {
      "text/plain": [
       "id                       0\n",
       "player_fifa_api_id       0\n",
       "player_api_id            0\n",
       "date                     0\n",
       "overall_rating           0\n",
       "potential                0\n",
       "preferred_foot           0\n",
       "attacking_work_rate    911\n",
       "defensive_work_rate      0\n",
       "crossing                 0\n",
       "finishing                0\n",
       "heading_accuracy         0\n",
       "short_passing            0\n",
       "volleys                  0\n",
       "dribbling                0\n",
       "curve                    0\n",
       "free_kick_accuracy       0\n",
       "long_passing             0\n",
       "ball_control             0\n",
       "acceleration             0\n",
       "sprint_speed             0\n",
       "agility                  0\n",
       "reactions                0\n",
       "balance                  0\n",
       "shot_power               0\n",
       "jumping                  0\n",
       "stamina                  0\n",
       "strength                 0\n",
       "long_shots               0\n",
       "aggression               0\n",
       "interceptions            0\n",
       "positioning              0\n",
       "vision                   0\n",
       "penalties                0\n",
       "marking                  0\n",
       "standing_tackle          0\n",
       "sliding_tackle           0\n",
       "gk_diving                0\n",
       "gk_handling              0\n",
       "gk_kicking               0\n",
       "gk_positioning           0\n",
       "gk_reflexes              0\n",
       "dtype: int64"
      ]
     },
     "execution_count": 89,
     "metadata": {},
     "output_type": "execute_result"
    }
   ],
   "source": [
    "data.isnull().sum()"
   ]
  },
  {
   "cell_type": "markdown",
   "metadata": {},
   "source": [
    "- Let's handle null values in `attacking_work_rate` column"
   ]
  },
  {
   "cell_type": "code",
   "execution_count": 90,
   "metadata": {},
   "outputs": [
    {
     "data": {
      "text/plain": [
       "medium    125070\n",
       "high       42823\n",
       "low         8569\n",
       "None        3317\n",
       "norm         317\n",
       "y             94\n",
       "stoc          86\n",
       "le            78\n",
       "Name: attacking_work_rate, dtype: int64"
      ]
     },
     "execution_count": 90,
     "metadata": {},
     "output_type": "execute_result"
    }
   ],
   "source": [
    "data['attacking_work_rate'].value_counts()"
   ]
  },
  {
   "cell_type": "code",
   "execution_count": 91,
   "metadata": {},
   "outputs": [
    {
     "data": {
      "text/plain": [
       "'medium'"
      ]
     },
     "execution_count": 91,
     "metadata": {},
     "output_type": "execute_result"
    }
   ],
   "source": [
    "data['attacking_work_rate'].mode()[0]"
   ]
  },
  {
   "cell_type": "markdown",
   "metadata": {},
   "source": [
    "- as we can see mode of column `attacking_work_rate` is **median** category so we are going to replace all the null vaues with mode"
   ]
  },
  {
   "cell_type": "code",
   "execution_count": 92,
   "metadata": {},
   "outputs": [],
   "source": [
    "# Imputing attacking_work_rate with mode i.e. 'Medium'\n",
    "data.loc[ data['attacking_work_rate'].isnull() , 'attacking_work_rate' ] = data['attacking_work_rate'].mode()[0]"
   ]
  },
  {
   "cell_type": "code",
   "execution_count": 93,
   "metadata": {},
   "outputs": [
    {
     "data": {
      "text/plain": [
       "0"
      ]
     },
     "execution_count": 93,
     "metadata": {},
     "output_type": "execute_result"
    }
   ],
   "source": [
    "data.isnull().sum().sum()"
   ]
  },
  {
   "cell_type": "markdown",
   "metadata": {},
   "source": [
    "**Total Missing values present now:  `0`**"
   ]
  },
  {
   "cell_type": "code",
   "execution_count": 94,
   "metadata": {},
   "outputs": [
    {
     "data": {
      "text/plain": [
       "(181265, 42)"
      ]
     },
     "execution_count": 94,
     "metadata": {},
     "output_type": "execute_result"
    }
   ],
   "source": [
    "data.shape"
   ]
  },
  {
   "cell_type": "code",
   "execution_count": 95,
   "metadata": {},
   "outputs": [
    {
     "data": {
      "image/png": "[encoded data removed]",
      "text/plain": [
       "<Figure size 1080x1080 with 2 Axes>"
      ]
     },
     "metadata": {
      "needs_background": "light"
     },
     "output_type": "display_data"
    }
   ],
   "source": [
    "plt.figure(figsize=(15,15))\n",
    "sns.heatmap(data.corr())\n",
    "plt.show()"
   ]
  },
  {
   "cell_type": "code",
   "execution_count": 96,
   "metadata": {},
   "outputs": [],
   "source": [
    "data = data.reset_index(drop=True)"
   ]
  },
  {
   "cell_type": "markdown",
   "metadata": {},
   "source": [
    "- **Removing Redundant Features**\n",
    "   - Since our main aim is to predict the overall rating of the players, based upon their performances in different aspects of athletics, We will remove, some unique features like is, `api_id` as well as `date`.\n"
   ]
  },
  {
   "cell_type": "code",
   "execution_count": 97,
   "metadata": {},
   "outputs": [
    {
     "data": {
      "text/html": [
       "<div>\n",
       "<style scoped>\n",
       "    .dataframe tbody tr th:only-of-type {\n",
       "        vertical-align: middle;\n",
       "    }\n",
       "\n",
       "    .dataframe tbody tr th {\n",
       "        vertical-align: top;\n",
       "    }\n",
       "\n",
       "    .dataframe thead th {\n",
       "        text-align: right;\n",
       "    }\n",
       "</style>\n",
       "<table border=\"1\" class=\"dataframe\">\n",
       "  <thead>\n",
       "    <tr style=\"text-align: right;\">\n",
       "      <th></th>\n",
       "      <th>overall_rating</th>\n",
       "      <th>potential</th>\n",
       "      <th>preferred_foot</th>\n",
       "      <th>attacking_work_rate</th>\n",
       "      <th>defensive_work_rate</th>\n",
       "      <th>crossing</th>\n",
       "      <th>finishing</th>\n",
       "      <th>heading_accuracy</th>\n",
       "      <th>short_passing</th>\n",
       "      <th>volleys</th>\n",
       "      <th>...</th>\n",
       "      <th>vision</th>\n",
       "      <th>penalties</th>\n",
       "      <th>marking</th>\n",
       "      <th>standing_tackle</th>\n",
       "      <th>sliding_tackle</th>\n",
       "      <th>gk_diving</th>\n",
       "      <th>gk_handling</th>\n",
       "      <th>gk_kicking</th>\n",
       "      <th>gk_positioning</th>\n",
       "      <th>gk_reflexes</th>\n",
       "    </tr>\n",
       "  </thead>\n",
       "  <tbody>\n",
       "    <tr>\n",
       "      <th>0</th>\n",
       "      <td>67.0</td>\n",
       "      <td>71.0</td>\n",
       "      <td>right</td>\n",
       "      <td>medium</td>\n",
       "      <td>medium</td>\n",
       "      <td>49.0</td>\n",
       "      <td>44.0</td>\n",
       "      <td>71.0</td>\n",
       "      <td>61.0</td>\n",
       "      <td>44.0</td>\n",
       "      <td>...</td>\n",
       "      <td>54.0</td>\n",
       "      <td>48.0</td>\n",
       "      <td>65.0</td>\n",
       "      <td>69.0</td>\n",
       "      <td>69.0</td>\n",
       "      <td>6.0</td>\n",
       "      <td>11.0</td>\n",
       "      <td>10.0</td>\n",
       "      <td>8.0</td>\n",
       "      <td>8.0</td>\n",
       "    </tr>\n",
       "    <tr>\n",
       "      <th>1</th>\n",
       "      <td>67.0</td>\n",
       "      <td>71.0</td>\n",
       "      <td>right</td>\n",
       "      <td>medium</td>\n",
       "      <td>medium</td>\n",
       "      <td>49.0</td>\n",
       "      <td>44.0</td>\n",
       "      <td>71.0</td>\n",
       "      <td>61.0</td>\n",
       "      <td>44.0</td>\n",
       "      <td>...</td>\n",
       "      <td>54.0</td>\n",
       "      <td>48.0</td>\n",
       "      <td>65.0</td>\n",
       "      <td>69.0</td>\n",
       "      <td>69.0</td>\n",
       "      <td>6.0</td>\n",
       "      <td>11.0</td>\n",
       "      <td>10.0</td>\n",
       "      <td>8.0</td>\n",
       "      <td>8.0</td>\n",
       "    </tr>\n",
       "    <tr>\n",
       "      <th>2</th>\n",
       "      <td>62.0</td>\n",
       "      <td>66.0</td>\n",
       "      <td>right</td>\n",
       "      <td>medium</td>\n",
       "      <td>medium</td>\n",
       "      <td>49.0</td>\n",
       "      <td>44.0</td>\n",
       "      <td>71.0</td>\n",
       "      <td>61.0</td>\n",
       "      <td>44.0</td>\n",
       "      <td>...</td>\n",
       "      <td>54.0</td>\n",
       "      <td>48.0</td>\n",
       "      <td>65.0</td>\n",
       "      <td>66.0</td>\n",
       "      <td>69.0</td>\n",
       "      <td>6.0</td>\n",
       "      <td>11.0</td>\n",
       "      <td>10.0</td>\n",
       "      <td>8.0</td>\n",
       "      <td>8.0</td>\n",
       "    </tr>\n",
       "    <tr>\n",
       "      <th>3</th>\n",
       "      <td>61.0</td>\n",
       "      <td>65.0</td>\n",
       "      <td>right</td>\n",
       "      <td>medium</td>\n",
       "      <td>medium</td>\n",
       "      <td>48.0</td>\n",
       "      <td>43.0</td>\n",
       "      <td>70.0</td>\n",
       "      <td>60.0</td>\n",
       "      <td>43.0</td>\n",
       "      <td>...</td>\n",
       "      <td>53.0</td>\n",
       "      <td>47.0</td>\n",
       "      <td>62.0</td>\n",
       "      <td>63.0</td>\n",
       "      <td>66.0</td>\n",
       "      <td>5.0</td>\n",
       "      <td>10.0</td>\n",
       "      <td>9.0</td>\n",
       "      <td>7.0</td>\n",
       "      <td>7.0</td>\n",
       "    </tr>\n",
       "    <tr>\n",
       "      <th>4</th>\n",
       "      <td>61.0</td>\n",
       "      <td>65.0</td>\n",
       "      <td>right</td>\n",
       "      <td>medium</td>\n",
       "      <td>medium</td>\n",
       "      <td>48.0</td>\n",
       "      <td>43.0</td>\n",
       "      <td>70.0</td>\n",
       "      <td>60.0</td>\n",
       "      <td>43.0</td>\n",
       "      <td>...</td>\n",
       "      <td>53.0</td>\n",
       "      <td>47.0</td>\n",
       "      <td>62.0</td>\n",
       "      <td>63.0</td>\n",
       "      <td>66.0</td>\n",
       "      <td>5.0</td>\n",
       "      <td>10.0</td>\n",
       "      <td>9.0</td>\n",
       "      <td>7.0</td>\n",
       "      <td>7.0</td>\n",
       "    </tr>\n",
       "  </tbody>\n",
       "</table>\n",
       "<p>5 rows × 38 columns</p>\n",
       "</div>"
      ],
      "text/plain": [
       "   overall_rating  potential preferred_foot attacking_work_rate  \\\n",
       "0            67.0       71.0          right              medium   \n",
       "1            67.0       71.0          right              medium   \n",
       "2            62.0       66.0          right              medium   \n",
       "3            61.0       65.0          right              medium   \n",
       "4            61.0       65.0          right              medium   \n",
       "\n",
       "  defensive_work_rate  crossing  finishing  heading_accuracy  short_passing  \\\n",
       "0              medium      49.0       44.0              71.0           61.0   \n",
       "1              medium      49.0       44.0              71.0           61.0   \n",
       "2              medium      49.0       44.0              71.0           61.0   \n",
       "3              medium      48.0       43.0              70.0           60.0   \n",
       "4              medium      48.0       43.0              70.0           60.0   \n",
       "\n",
       "   volleys  ...  vision  penalties  marking  standing_tackle  sliding_tackle  \\\n",
       "0     44.0  ...    54.0       48.0     65.0             69.0            69.0   \n",
       "1     44.0  ...    54.0       48.0     65.0             69.0            69.0   \n",
       "2     44.0  ...    54.0       48.0     65.0             66.0            69.0   \n",
       "3     43.0  ...    53.0       47.0     62.0             63.0            66.0   \n",
       "4     43.0  ...    53.0       47.0     62.0             63.0            66.0   \n",
       "\n",
       "   gk_diving  gk_handling  gk_kicking  gk_positioning  gk_reflexes  \n",
       "0        6.0         11.0        10.0             8.0          8.0  \n",
       "1        6.0         11.0        10.0             8.0          8.0  \n",
       "2        6.0         11.0        10.0             8.0          8.0  \n",
       "3        5.0         10.0         9.0             7.0          7.0  \n",
       "4        5.0         10.0         9.0             7.0          7.0  \n",
       "\n",
       "[5 rows x 38 columns]"
      ]
     },
     "execution_count": 97,
     "metadata": {},
     "output_type": "execute_result"
    }
   ],
   "source": [
    "new_data = data.drop(columns=['id','player_fifa_api_id','player_api_id','date'], axis=1)\n",
    "new_data.head()"
   ]
  },
  {
   "cell_type": "code",
   "execution_count": 98,
   "metadata": {},
   "outputs": [
    {
     "data": {
      "text/plain": [
       "(181265, 38)"
      ]
     },
     "execution_count": 98,
     "metadata": {},
     "output_type": "execute_result"
    }
   ],
   "source": [
    "new_data.shape"
   ]
  },
  {
   "cell_type": "markdown",
   "metadata": {},
   "source": [
    "# **Step 4: `Data Transformation and derivation of new attributes if necessary and statistical/graphical data analysis`**\n"
   ]
  },
  {
   "cell_type": "markdown",
   "metadata": {},
   "source": [
    "- **Creating Dummy columns for Categorical Variable**\n",
    "   - We have 3 categorical variable in the data set namely \n",
    "     - 1. `preferred_foot` : It consists of 2 category i.e. `Right` and `Left`. After encoding, right will be termed as 1 and left as 0. \n",
    "     - 2. `attacking_work_rate` and `defensive_work_rate` will create a new columns for each category in it."
   ]
  },
  {
   "cell_type": "code",
   "execution_count": 99,
   "metadata": {},
   "outputs": [],
   "source": [
    "cat_list = ['preferred_foot', 'attacking_work_rate', 'defensive_work_rate']"
   ]
  },
  {
   "cell_type": "code",
   "execution_count": 100,
   "metadata": {},
   "outputs": [
    {
     "data": {
      "text/plain": [
       "medium    125981\n",
       "high       42823\n",
       "low         8569\n",
       "None        3317\n",
       "norm         317\n",
       "y             94\n",
       "stoc          86\n",
       "le            78\n",
       "Name: attacking_work_rate, dtype: int64"
      ]
     },
     "execution_count": 100,
     "metadata": {},
     "output_type": "execute_result"
    }
   ],
   "source": [
    "new_data['attacking_work_rate'].value_counts()"
   ]
  },
  {
   "cell_type": "code",
   "execution_count": 101,
   "metadata": {},
   "outputs": [
    {
     "data": {
      "text/plain": [
       "medium    130846\n",
       "high       27041\n",
       "low        18432\n",
       "o           1328\n",
       "_0           911\n",
       "1            421\n",
       "2            334\n",
       "ormal        317\n",
       "3            243\n",
       "5            231\n",
       "7            207\n",
       "0            188\n",
       "6            179\n",
       "9            143\n",
       "4            116\n",
       "es            94\n",
       "tocky         86\n",
       "ean           78\n",
       "8             70\n",
       "Name: defensive_work_rate, dtype: int64"
      ]
     },
     "execution_count": 101,
     "metadata": {},
     "output_type": "execute_result"
    }
   ],
   "source": [
    "new_data['defensive_work_rate'].value_counts()"
   ]
  },
  {
   "cell_type": "code",
   "execution_count": 102,
   "metadata": {},
   "outputs": [
    {
     "data": {
      "text/html": [
       "<div>\n",
       "<style scoped>\n",
       "    .dataframe tbody tr th:only-of-type {\n",
       "        vertical-align: middle;\n",
       "    }\n",
       "\n",
       "    .dataframe tbody tr th {\n",
       "        vertical-align: top;\n",
       "    }\n",
       "\n",
       "    .dataframe thead th {\n",
       "        text-align: right;\n",
       "    }\n",
       "</style>\n",
       "<table border=\"1\" class=\"dataframe\">\n",
       "  <thead>\n",
       "    <tr style=\"text-align: right;\">\n",
       "      <th>defensive_work_rate</th>\n",
       "      <th>0</th>\n",
       "      <th>1</th>\n",
       "      <th>2</th>\n",
       "      <th>3</th>\n",
       "      <th>4</th>\n",
       "      <th>5</th>\n",
       "      <th>6</th>\n",
       "      <th>7</th>\n",
       "      <th>8</th>\n",
       "      <th>9</th>\n",
       "      <th>_0</th>\n",
       "      <th>ean</th>\n",
       "      <th>es</th>\n",
       "      <th>high</th>\n",
       "      <th>low</th>\n",
       "      <th>medium</th>\n",
       "      <th>o</th>\n",
       "      <th>ormal</th>\n",
       "      <th>tocky</th>\n",
       "    </tr>\n",
       "    <tr>\n",
       "      <th>attacking_work_rate</th>\n",
       "      <th></th>\n",
       "      <th></th>\n",
       "      <th></th>\n",
       "      <th></th>\n",
       "      <th></th>\n",
       "      <th></th>\n",
       "      <th></th>\n",
       "      <th></th>\n",
       "      <th></th>\n",
       "      <th></th>\n",
       "      <th></th>\n",
       "      <th></th>\n",
       "      <th></th>\n",
       "      <th></th>\n",
       "      <th></th>\n",
       "      <th></th>\n",
       "      <th></th>\n",
       "      <th></th>\n",
       "      <th></th>\n",
       "    </tr>\n",
       "  </thead>\n",
       "  <tbody>\n",
       "    <tr>\n",
       "      <th>None</th>\n",
       "      <td>168</td>\n",
       "      <td>377</td>\n",
       "      <td>245</td>\n",
       "      <td>220</td>\n",
       "      <td>89</td>\n",
       "      <td>203</td>\n",
       "      <td>145</td>\n",
       "      <td>193</td>\n",
       "      <td>65</td>\n",
       "      <td>126</td>\n",
       "      <td>0</td>\n",
       "      <td>0</td>\n",
       "      <td>0</td>\n",
       "      <td>69</td>\n",
       "      <td>7</td>\n",
       "      <td>82</td>\n",
       "      <td>1328</td>\n",
       "      <td>0</td>\n",
       "      <td>0</td>\n",
       "    </tr>\n",
       "    <tr>\n",
       "      <th>high</th>\n",
       "      <td>11</td>\n",
       "      <td>9</td>\n",
       "      <td>13</td>\n",
       "      <td>0</td>\n",
       "      <td>0</td>\n",
       "      <td>17</td>\n",
       "      <td>13</td>\n",
       "      <td>5</td>\n",
       "      <td>0</td>\n",
       "      <td>4</td>\n",
       "      <td>0</td>\n",
       "      <td>0</td>\n",
       "      <td>0</td>\n",
       "      <td>7939</td>\n",
       "      <td>5727</td>\n",
       "      <td>29085</td>\n",
       "      <td>0</td>\n",
       "      <td>0</td>\n",
       "      <td>0</td>\n",
       "    </tr>\n",
       "    <tr>\n",
       "      <th>le</th>\n",
       "      <td>0</td>\n",
       "      <td>0</td>\n",
       "      <td>0</td>\n",
       "      <td>0</td>\n",
       "      <td>0</td>\n",
       "      <td>0</td>\n",
       "      <td>0</td>\n",
       "      <td>0</td>\n",
       "      <td>0</td>\n",
       "      <td>0</td>\n",
       "      <td>0</td>\n",
       "      <td>78</td>\n",
       "      <td>0</td>\n",
       "      <td>0</td>\n",
       "      <td>0</td>\n",
       "      <td>0</td>\n",
       "      <td>0</td>\n",
       "      <td>0</td>\n",
       "      <td>0</td>\n",
       "    </tr>\n",
       "    <tr>\n",
       "      <th>low</th>\n",
       "      <td>0</td>\n",
       "      <td>0</td>\n",
       "      <td>0</td>\n",
       "      <td>12</td>\n",
       "      <td>18</td>\n",
       "      <td>0</td>\n",
       "      <td>0</td>\n",
       "      <td>0</td>\n",
       "      <td>0</td>\n",
       "      <td>0</td>\n",
       "      <td>0</td>\n",
       "      <td>0</td>\n",
       "      <td>0</td>\n",
       "      <td>3319</td>\n",
       "      <td>695</td>\n",
       "      <td>4525</td>\n",
       "      <td>0</td>\n",
       "      <td>0</td>\n",
       "      <td>0</td>\n",
       "    </tr>\n",
       "    <tr>\n",
       "      <th>medium</th>\n",
       "      <td>9</td>\n",
       "      <td>35</td>\n",
       "      <td>76</td>\n",
       "      <td>11</td>\n",
       "      <td>9</td>\n",
       "      <td>11</td>\n",
       "      <td>21</td>\n",
       "      <td>9</td>\n",
       "      <td>5</td>\n",
       "      <td>13</td>\n",
       "      <td>911</td>\n",
       "      <td>0</td>\n",
       "      <td>0</td>\n",
       "      <td>15714</td>\n",
       "      <td>12003</td>\n",
       "      <td>97154</td>\n",
       "      <td>0</td>\n",
       "      <td>0</td>\n",
       "      <td>0</td>\n",
       "    </tr>\n",
       "    <tr>\n",
       "      <th>norm</th>\n",
       "      <td>0</td>\n",
       "      <td>0</td>\n",
       "      <td>0</td>\n",
       "      <td>0</td>\n",
       "      <td>0</td>\n",
       "      <td>0</td>\n",
       "      <td>0</td>\n",
       "      <td>0</td>\n",
       "      <td>0</td>\n",
       "      <td>0</td>\n",
       "      <td>0</td>\n",
       "      <td>0</td>\n",
       "      <td>0</td>\n",
       "      <td>0</td>\n",
       "      <td>0</td>\n",
       "      <td>0</td>\n",
       "      <td>0</td>\n",
       "      <td>317</td>\n",
       "      <td>0</td>\n",
       "    </tr>\n",
       "    <tr>\n",
       "      <th>stoc</th>\n",
       "      <td>0</td>\n",
       "      <td>0</td>\n",
       "      <td>0</td>\n",
       "      <td>0</td>\n",
       "      <td>0</td>\n",
       "      <td>0</td>\n",
       "      <td>0</td>\n",
       "      <td>0</td>\n",
       "      <td>0</td>\n",
       "      <td>0</td>\n",
       "      <td>0</td>\n",
       "      <td>0</td>\n",
       "      <td>0</td>\n",
       "      <td>0</td>\n",
       "      <td>0</td>\n",
       "      <td>0</td>\n",
       "      <td>0</td>\n",
       "      <td>0</td>\n",
       "      <td>86</td>\n",
       "    </tr>\n",
       "    <tr>\n",
       "      <th>y</th>\n",
       "      <td>0</td>\n",
       "      <td>0</td>\n",
       "      <td>0</td>\n",
       "      <td>0</td>\n",
       "      <td>0</td>\n",
       "      <td>0</td>\n",
       "      <td>0</td>\n",
       "      <td>0</td>\n",
       "      <td>0</td>\n",
       "      <td>0</td>\n",
       "      <td>0</td>\n",
       "      <td>0</td>\n",
       "      <td>94</td>\n",
       "      <td>0</td>\n",
       "      <td>0</td>\n",
       "      <td>0</td>\n",
       "      <td>0</td>\n",
       "      <td>0</td>\n",
       "      <td>0</td>\n",
       "    </tr>\n",
       "  </tbody>\n",
       "</table>\n",
       "</div>"
      ],
      "text/plain": [
       "defensive_work_rate    0    1    2    3   4    5    6    7   8    9   _0  ean  \\\n",
       "attacking_work_rate                                                             \n",
       "None                 168  377  245  220  89  203  145  193  65  126    0    0   \n",
       "high                  11    9   13    0   0   17   13    5   0    4    0    0   \n",
       "le                     0    0    0    0   0    0    0    0   0    0    0   78   \n",
       "low                    0    0    0   12  18    0    0    0   0    0    0    0   \n",
       "medium                 9   35   76   11   9   11   21    9   5   13  911    0   \n",
       "norm                   0    0    0    0   0    0    0    0   0    0    0    0   \n",
       "stoc                   0    0    0    0   0    0    0    0   0    0    0    0   \n",
       "y                      0    0    0    0   0    0    0    0   0    0    0    0   \n",
       "\n",
       "defensive_work_rate  es   high    low  medium     o  ormal  tocky  \n",
       "attacking_work_rate                                                \n",
       "None                  0     69      7      82  1328      0      0  \n",
       "high                  0   7939   5727   29085     0      0      0  \n",
       "le                    0      0      0       0     0      0      0  \n",
       "low                   0   3319    695    4525     0      0      0  \n",
       "medium                0  15714  12003   97154     0      0      0  \n",
       "norm                  0      0      0       0     0    317      0  \n",
       "stoc                  0      0      0       0     0      0     86  \n",
       "y                    94      0      0       0     0      0      0  "
      ]
     },
     "execution_count": 102,
     "metadata": {},
     "output_type": "execute_result"
    }
   ],
   "source": [
    "pd.crosstab(new_data['attacking_work_rate'], new_data['defensive_work_rate'])"
   ]
  },
  {
   "cell_type": "markdown",
   "metadata": {},
   "source": [
    "- Assuming some mistakes while taking data, it is assumed that some of the cataegories from `attacking_work_rate` is present in the `defensive_work_rate` like\n",
    "   - `stoc` - `tockey` --> **stockey** (a person who has short height but borad chest and shoulders)\n",
    "   - `norm` - `ormal` --> **normal**\n",
    "   - `le` - `ean` --> **lean**\n",
    "   - `None` - `o` --> **None**"
   ]
  },
  {
   "cell_type": "markdown",
   "metadata": {},
   "source": [
    "- **Changing Classes name in `attacking_work_rate`**"
   ]
  },
  {
   "cell_type": "code",
   "execution_count": 103,
   "metadata": {},
   "outputs": [],
   "source": [
    "new_data['attacking_work_rate'].replace({'le':'lean','norm':'normal','stoc':'stocky','y':'yes'}, inplace=True)"
   ]
  },
  {
   "cell_type": "markdown",
   "metadata": {},
   "source": [
    "- **Changing Classes name in `attacking_work_rate`**"
   ]
  },
  {
   "cell_type": "code",
   "execution_count": 104,
   "metadata": {},
   "outputs": [],
   "source": [
    "new_data['defensive_work_rate'].replace({'ean':'lean','ormal':'normal','tocky':'stocky','es':'yes','o':'None','_0':'medium'}, inplace=True)"
   ]
  },
  {
   "cell_type": "code",
   "execution_count": 105,
   "metadata": {},
   "outputs": [
    {
     "data": {
      "text/plain": [
       "medium    131757\n",
       "high       27041\n",
       "low        18432\n",
       "None        1328\n",
       "1            421\n",
       "2            334\n",
       "normal       317\n",
       "3            243\n",
       "5            231\n",
       "7            207\n",
       "0            188\n",
       "6            179\n",
       "9            143\n",
       "4            116\n",
       "yes           94\n",
       "stocky        86\n",
       "lean          78\n",
       "8             70\n",
       "Name: defensive_work_rate, dtype: int64"
      ]
     },
     "execution_count": 105,
     "metadata": {},
     "output_type": "execute_result"
    }
   ],
   "source": [
    "new_data['defensive_work_rate'].value_counts()"
   ]
  },
  {
   "cell_type": "code",
   "execution_count": 106,
   "metadata": {},
   "outputs": [
    {
     "data": {
      "image/png": "[encoded data removed]",
      "text/plain": [
       "<Figure size 432x288 with 1 Axes>"
      ]
     },
     "metadata": {
      "needs_background": "light"
     },
     "output_type": "display_data"
    }
   ],
   "source": [
    "new_data['attacking_work_rate'].value_counts().plot.bar()\n",
    "plt.show()"
   ]
  },
  {
   "cell_type": "markdown",
   "metadata": {},
   "source": [
    "- **`defensive_work_rate` have numeric classes so we Imputing numeric classes as `None class`**"
   ]
  },
  {
   "cell_type": "code",
   "execution_count": 107,
   "metadata": {},
   "outputs": [],
   "source": [
    "# Imputing numeric classes to None\n",
    "new_data.loc[ new_data['defensive_work_rate'].isin(list('0123456789')) , 'defensive_work_rate' ] = 'None'"
   ]
  },
  {
   "cell_type": "code",
   "execution_count": 108,
   "metadata": {},
   "outputs": [
    {
     "data": {
      "image/png": "[encoded data removed]",
      "text/plain": [
       "<Figure size 432x288 with 1 Axes>"
      ]
     },
     "metadata": {
      "needs_background": "light"
     },
     "output_type": "display_data"
    }
   ],
   "source": [
    "new_data['defensive_work_rate'].value_counts().plot.bar()\n",
    "plt.show()"
   ]
  },
  {
   "cell_type": "code",
   "execution_count": 109,
   "metadata": {},
   "outputs": [
    {
     "data": {
      "image/png": "[encoded data removed]",
      "text/plain": [
       "<Figure size 432x288 with 1 Axes>"
      ]
     },
     "metadata": {
      "needs_background": "light"
     },
     "output_type": "display_data"
    }
   ],
   "source": [
    "sns.boxplot(x = new_data['defensive_work_rate'],y = new_data['overall_rating'])\n",
    "plt.show()"
   ]
  },
  {
   "cell_type": "code",
   "execution_count": 110,
   "metadata": {},
   "outputs": [
    {
     "data": {
      "image/png": "[encoded data removed]",
      "text/plain": [
       "<Figure size 432x288 with 1 Axes>"
      ]
     },
     "metadata": {
      "needs_background": "light"
     },
     "output_type": "display_data"
    }
   ],
   "source": [
    "sns.boxplot(x = new_data['preferred_foot'],y = new_data['overall_rating'])\n",
    "plt.show()"
   ]
  },
  {
   "cell_type": "code",
   "execution_count": 111,
   "metadata": {},
   "outputs": [
    {
     "data": {
      "image/png": "[encoded data removed]",
      "text/plain": [
       "<Figure size 432x288 with 1 Axes>"
      ]
     },
     "metadata": {
      "needs_background": "light"
     },
     "output_type": "display_data"
    }
   ],
   "source": [
    "sns.boxplot(x = new_data['attacking_work_rate'],y = new_data['overall_rating'])\n",
    "plt.show()"
   ]
  },
  {
   "cell_type": "code",
   "execution_count": 112,
   "metadata": {},
   "outputs": [
    {
     "data": {
      "text/plain": [
       "Index(['overall_rating', 'potential', 'preferred_foot', 'attacking_work_rate',\n",
       "       'defensive_work_rate', 'crossing', 'finishing', 'heading_accuracy',\n",
       "       'short_passing', 'volleys', 'dribbling', 'curve', 'free_kick_accuracy',\n",
       "       'long_passing', 'ball_control', 'acceleration', 'sprint_speed',\n",
       "       'agility', 'reactions', 'balance', 'shot_power', 'jumping', 'stamina',\n",
       "       'strength', 'long_shots', 'aggression', 'interceptions', 'positioning',\n",
       "       'vision', 'penalties', 'marking', 'standing_tackle', 'sliding_tackle',\n",
       "       'gk_diving', 'gk_handling', 'gk_kicking', 'gk_positioning',\n",
       "       'gk_reflexes'],\n",
       "      dtype='object')"
      ]
     },
     "execution_count": 112,
     "metadata": {},
     "output_type": "execute_result"
    }
   ],
   "source": [
    "new_data.columns"
   ]
  },
  {
   "cell_type": "code",
   "execution_count": 113,
   "metadata": {},
   "outputs": [
    {
     "data": {
      "image/png": "[encoded data removed]",
      "text/plain": [
       "<Figure size 432x288 with 1 Axes>"
      ]
     },
     "metadata": {
      "needs_background": "light"
     },
     "output_type": "display_data"
    },
    {
     "data": {
      "image/png": "[encoded data removed]",
      "text/plain": [
       "<Figure size 432x288 with 1 Axes>"
      ]
     },
     "metadata": {
      "needs_background": "light"
     },
     "output_type": "display_data"
    },
    {
     "data": {
      "image/png": "[encoded data removed]",
      "text/plain": [
       "<Figure size 432x288 with 1 Axes>"
      ]
     },
     "metadata": {
      "needs_background": "light"
     },
     "output_type": "display_data"
    }
   ],
   "source": [
    "for i in ['potential','crossing','finishing']:\n",
    "    sns.boxplot(new_data[i])\n",
    "    plt.show()"
   ]
  },
  {
   "cell_type": "markdown",
   "metadata": {},
   "source": [
    "- **take care of outliers**"
   ]
  },
  {
   "cell_type": "code",
   "execution_count": 114,
   "metadata": {},
   "outputs": [],
   "source": [
    "for i in ['potential','crossing','finishing']:\n",
    "    q1 = new_data[i].quantile(0.25)\n",
    "    q3 = new_data[i].quantile(0.75)\n",
    "    \n",
    "    IQR = q3-q1\n",
    "    UB = q3 + IQR*1.5\n",
    "    LB = q1 - IQR*1.5\n",
    "    \n",
    "    new_data.loc[(new_data[i] < LB), i] = new_data[i].quantile(0.01)"
   ]
  },
  {
   "cell_type": "code",
   "execution_count": 115,
   "metadata": {},
   "outputs": [
    {
     "data": {
      "image/png": "[encoded data removed]",
      "text/plain": [
       "<Figure size 432x288 with 1 Axes>"
      ]
     },
     "metadata": {
      "needs_background": "light"
     },
     "output_type": "display_data"
    },
    {
     "data": {
      "image/png": "[encoded data removed]",
      "text/plain": [
       "<Figure size 432x288 with 1 Axes>"
      ]
     },
     "metadata": {
      "needs_background": "light"
     },
     "output_type": "display_data"
    },
    {
     "data": {
      "image/png": "[encoded data removed]",
      "text/plain": [
       "<Figure size 432x288 with 1 Axes>"
      ]
     },
     "metadata": {
      "needs_background": "light"
     },
     "output_type": "display_data"
    }
   ],
   "source": [
    "for i in ['potential','crossing','finishing']:\n",
    "    sns.boxplot(new_data[i])\n",
    "    plt.show()"
   ]
  },
  {
   "cell_type": "markdown",
   "metadata": {},
   "source": [
    "### **creating dummy variables**"
   ]
  },
  {
   "cell_type": "code",
   "execution_count": 116,
   "metadata": {},
   "outputs": [
    {
     "data": {
      "text/plain": [
       "['preferred_foot', 'attacking_work_rate', 'defensive_work_rate']"
      ]
     },
     "execution_count": 116,
     "metadata": {},
     "output_type": "execute_result"
    }
   ],
   "source": [
    "cat_list"
   ]
  },
  {
   "cell_type": "code",
   "execution_count": 117,
   "metadata": {},
   "outputs": [
    {
     "data": {
      "text/html": [
       "<div>\n",
       "<style scoped>\n",
       "    .dataframe tbody tr th:only-of-type {\n",
       "        vertical-align: middle;\n",
       "    }\n",
       "\n",
       "    .dataframe tbody tr th {\n",
       "        vertical-align: top;\n",
       "    }\n",
       "\n",
       "    .dataframe thead th {\n",
       "        text-align: right;\n",
       "    }\n",
       "</style>\n",
       "<table border=\"1\" class=\"dataframe\">\n",
       "  <thead>\n",
       "    <tr style=\"text-align: right;\">\n",
       "      <th></th>\n",
       "      <th>overall_rating</th>\n",
       "      <th>potential</th>\n",
       "      <th>crossing</th>\n",
       "      <th>finishing</th>\n",
       "      <th>heading_accuracy</th>\n",
       "      <th>short_passing</th>\n",
       "      <th>volleys</th>\n",
       "      <th>dribbling</th>\n",
       "      <th>curve</th>\n",
       "      <th>free_kick_accuracy</th>\n",
       "      <th>...</th>\n",
       "      <th>attacking_work_rate_stocky</th>\n",
       "      <th>attacking_work_rate_yes</th>\n",
       "      <th>defensive_work_rate_None</th>\n",
       "      <th>defensive_work_rate_high</th>\n",
       "      <th>defensive_work_rate_lean</th>\n",
       "      <th>defensive_work_rate_low</th>\n",
       "      <th>defensive_work_rate_medium</th>\n",
       "      <th>defensive_work_rate_normal</th>\n",
       "      <th>defensive_work_rate_stocky</th>\n",
       "      <th>defensive_work_rate_yes</th>\n",
       "    </tr>\n",
       "  </thead>\n",
       "  <tbody>\n",
       "    <tr>\n",
       "      <th>0</th>\n",
       "      <td>67.0</td>\n",
       "      <td>71.0</td>\n",
       "      <td>49.0</td>\n",
       "      <td>44.0</td>\n",
       "      <td>71.0</td>\n",
       "      <td>61.0</td>\n",
       "      <td>44.0</td>\n",
       "      <td>51.0</td>\n",
       "      <td>45.0</td>\n",
       "      <td>39.0</td>\n",
       "      <td>...</td>\n",
       "      <td>0</td>\n",
       "      <td>0</td>\n",
       "      <td>0</td>\n",
       "      <td>0</td>\n",
       "      <td>0</td>\n",
       "      <td>0</td>\n",
       "      <td>1</td>\n",
       "      <td>0</td>\n",
       "      <td>0</td>\n",
       "      <td>0</td>\n",
       "    </tr>\n",
       "    <tr>\n",
       "      <th>1</th>\n",
       "      <td>67.0</td>\n",
       "      <td>71.0</td>\n",
       "      <td>49.0</td>\n",
       "      <td>44.0</td>\n",
       "      <td>71.0</td>\n",
       "      <td>61.0</td>\n",
       "      <td>44.0</td>\n",
       "      <td>51.0</td>\n",
       "      <td>45.0</td>\n",
       "      <td>39.0</td>\n",
       "      <td>...</td>\n",
       "      <td>0</td>\n",
       "      <td>0</td>\n",
       "      <td>0</td>\n",
       "      <td>0</td>\n",
       "      <td>0</td>\n",
       "      <td>0</td>\n",
       "      <td>1</td>\n",
       "      <td>0</td>\n",
       "      <td>0</td>\n",
       "      <td>0</td>\n",
       "    </tr>\n",
       "    <tr>\n",
       "      <th>2</th>\n",
       "      <td>62.0</td>\n",
       "      <td>66.0</td>\n",
       "      <td>49.0</td>\n",
       "      <td>44.0</td>\n",
       "      <td>71.0</td>\n",
       "      <td>61.0</td>\n",
       "      <td>44.0</td>\n",
       "      <td>51.0</td>\n",
       "      <td>45.0</td>\n",
       "      <td>39.0</td>\n",
       "      <td>...</td>\n",
       "      <td>0</td>\n",
       "      <td>0</td>\n",
       "      <td>0</td>\n",
       "      <td>0</td>\n",
       "      <td>0</td>\n",
       "      <td>0</td>\n",
       "      <td>1</td>\n",
       "      <td>0</td>\n",
       "      <td>0</td>\n",
       "      <td>0</td>\n",
       "    </tr>\n",
       "    <tr>\n",
       "      <th>3</th>\n",
       "      <td>61.0</td>\n",
       "      <td>65.0</td>\n",
       "      <td>48.0</td>\n",
       "      <td>43.0</td>\n",
       "      <td>70.0</td>\n",
       "      <td>60.0</td>\n",
       "      <td>43.0</td>\n",
       "      <td>50.0</td>\n",
       "      <td>44.0</td>\n",
       "      <td>38.0</td>\n",
       "      <td>...</td>\n",
       "      <td>0</td>\n",
       "      <td>0</td>\n",
       "      <td>0</td>\n",
       "      <td>0</td>\n",
       "      <td>0</td>\n",
       "      <td>0</td>\n",
       "      <td>1</td>\n",
       "      <td>0</td>\n",
       "      <td>0</td>\n",
       "      <td>0</td>\n",
       "    </tr>\n",
       "    <tr>\n",
       "      <th>4</th>\n",
       "      <td>61.0</td>\n",
       "      <td>65.0</td>\n",
       "      <td>48.0</td>\n",
       "      <td>43.0</td>\n",
       "      <td>70.0</td>\n",
       "      <td>60.0</td>\n",
       "      <td>43.0</td>\n",
       "      <td>50.0</td>\n",
       "      <td>44.0</td>\n",
       "      <td>38.0</td>\n",
       "      <td>...</td>\n",
       "      <td>0</td>\n",
       "      <td>0</td>\n",
       "      <td>0</td>\n",
       "      <td>0</td>\n",
       "      <td>0</td>\n",
       "      <td>0</td>\n",
       "      <td>1</td>\n",
       "      <td>0</td>\n",
       "      <td>0</td>\n",
       "      <td>0</td>\n",
       "    </tr>\n",
       "  </tbody>\n",
       "</table>\n",
       "<p>5 rows × 53 columns</p>\n",
       "</div>"
      ],
      "text/plain": [
       "   overall_rating  potential  crossing  finishing  heading_accuracy  \\\n",
       "0            67.0       71.0      49.0       44.0              71.0   \n",
       "1            67.0       71.0      49.0       44.0              71.0   \n",
       "2            62.0       66.0      49.0       44.0              71.0   \n",
       "3            61.0       65.0      48.0       43.0              70.0   \n",
       "4            61.0       65.0      48.0       43.0              70.0   \n",
       "\n",
       "   short_passing  volleys  dribbling  curve  free_kick_accuracy  ...  \\\n",
       "0           61.0     44.0       51.0   45.0                39.0  ...   \n",
       "1           61.0     44.0       51.0   45.0                39.0  ...   \n",
       "2           61.0     44.0       51.0   45.0                39.0  ...   \n",
       "3           60.0     43.0       50.0   44.0                38.0  ...   \n",
       "4           60.0     43.0       50.0   44.0                38.0  ...   \n",
       "\n",
       "   attacking_work_rate_stocky  attacking_work_rate_yes  \\\n",
       "0                           0                        0   \n",
       "1                           0                        0   \n",
       "2                           0                        0   \n",
       "3                           0                        0   \n",
       "4                           0                        0   \n",
       "\n",
       "   defensive_work_rate_None  defensive_work_rate_high  \\\n",
       "0                         0                         0   \n",
       "1                         0                         0   \n",
       "2                         0                         0   \n",
       "3                         0                         0   \n",
       "4                         0                         0   \n",
       "\n",
       "   defensive_work_rate_lean  defensive_work_rate_low  \\\n",
       "0                         0                        0   \n",
       "1                         0                        0   \n",
       "2                         0                        0   \n",
       "3                         0                        0   \n",
       "4                         0                        0   \n",
       "\n",
       "   defensive_work_rate_medium  defensive_work_rate_normal  \\\n",
       "0                           1                           0   \n",
       "1                           1                           0   \n",
       "2                           1                           0   \n",
       "3                           1                           0   \n",
       "4                           1                           0   \n",
       "\n",
       "   defensive_work_rate_stocky  defensive_work_rate_yes  \n",
       "0                           0                        0  \n",
       "1                           0                        0  \n",
       "2                           0                        0  \n",
       "3                           0                        0  \n",
       "4                           0                        0  \n",
       "\n",
       "[5 rows x 53 columns]"
      ]
     },
     "execution_count": 117,
     "metadata": {},
     "output_type": "execute_result"
    }
   ],
   "source": [
    "dummy_data = pd.get_dummies(new_data, columns = cat_list)\n",
    "dummy_data.head()"
   ]
  },
  {
   "cell_type": "code",
   "execution_count": 118,
   "metadata": {},
   "outputs": [
    {
     "data": {
      "text/plain": [
       "(181265, 53)"
      ]
     },
     "execution_count": 118,
     "metadata": {},
     "output_type": "execute_result"
    }
   ],
   "source": [
    "dummy_data.shape"
   ]
  },
  {
   "cell_type": "code",
   "execution_count": 119,
   "metadata": {},
   "outputs": [
    {
     "data": {
      "text/html": [
       "<div>\n",
       "<style scoped>\n",
       "    .dataframe tbody tr th:only-of-type {\n",
       "        vertical-align: middle;\n",
       "    }\n",
       "\n",
       "    .dataframe tbody tr th {\n",
       "        vertical-align: top;\n",
       "    }\n",
       "\n",
       "    .dataframe thead th {\n",
       "        text-align: right;\n",
       "    }\n",
       "</style>\n",
       "<table border=\"1\" class=\"dataframe\">\n",
       "  <thead>\n",
       "    <tr style=\"text-align: right;\">\n",
       "      <th></th>\n",
       "      <th>overall_rating</th>\n",
       "      <th>potential</th>\n",
       "      <th>crossing</th>\n",
       "      <th>finishing</th>\n",
       "      <th>heading_accuracy</th>\n",
       "      <th>short_passing</th>\n",
       "      <th>volleys</th>\n",
       "      <th>dribbling</th>\n",
       "      <th>curve</th>\n",
       "      <th>free_kick_accuracy</th>\n",
       "      <th>...</th>\n",
       "      <th>attacking_work_rate_stocky</th>\n",
       "      <th>attacking_work_rate_yes</th>\n",
       "      <th>defensive_work_rate_None</th>\n",
       "      <th>defensive_work_rate_high</th>\n",
       "      <th>defensive_work_rate_lean</th>\n",
       "      <th>defensive_work_rate_low</th>\n",
       "      <th>defensive_work_rate_medium</th>\n",
       "      <th>defensive_work_rate_normal</th>\n",
       "      <th>defensive_work_rate_stocky</th>\n",
       "      <th>defensive_work_rate_yes</th>\n",
       "    </tr>\n",
       "  </thead>\n",
       "  <tbody>\n",
       "    <tr>\n",
       "      <th>count</th>\n",
       "      <td>181265.000000</td>\n",
       "      <td>181265.000000</td>\n",
       "      <td>181265.000000</td>\n",
       "      <td>181265.000000</td>\n",
       "      <td>181265.000000</td>\n",
       "      <td>181265.000000</td>\n",
       "      <td>181265.000000</td>\n",
       "      <td>181265.000000</td>\n",
       "      <td>181265.000000</td>\n",
       "      <td>181265.000000</td>\n",
       "      <td>...</td>\n",
       "      <td>181265.000000</td>\n",
       "      <td>181265.000000</td>\n",
       "      <td>181265.000000</td>\n",
       "      <td>181265.000000</td>\n",
       "      <td>181265.000000</td>\n",
       "      <td>181265.000000</td>\n",
       "      <td>181265.000000</td>\n",
       "      <td>181265.000000</td>\n",
       "      <td>181265.000000</td>\n",
       "      <td>181265.000000</td>\n",
       "    </tr>\n",
       "    <tr>\n",
       "      <th>mean</th>\n",
       "      <td>68.621493</td>\n",
       "      <td>73.488611</td>\n",
       "      <td>55.135713</td>\n",
       "      <td>49.939095</td>\n",
       "      <td>57.253871</td>\n",
       "      <td>62.459885</td>\n",
       "      <td>49.468436</td>\n",
       "      <td>59.230861</td>\n",
       "      <td>52.965675</td>\n",
       "      <td>49.380327</td>\n",
       "      <td>...</td>\n",
       "      <td>0.000474</td>\n",
       "      <td>0.000519</td>\n",
       "      <td>0.019088</td>\n",
       "      <td>0.149179</td>\n",
       "      <td>0.000430</td>\n",
       "      <td>0.101685</td>\n",
       "      <td>0.726875</td>\n",
       "      <td>0.001749</td>\n",
       "      <td>0.000474</td>\n",
       "      <td>0.000519</td>\n",
       "    </tr>\n",
       "    <tr>\n",
       "      <th>std</th>\n",
       "      <td>7.029845</td>\n",
       "      <td>6.533686</td>\n",
       "      <td>17.207646</td>\n",
       "      <td>19.047599</td>\n",
       "      <td>16.485767</td>\n",
       "      <td>14.186580</td>\n",
       "      <td>18.256618</td>\n",
       "      <td>17.749955</td>\n",
       "      <td>18.255788</td>\n",
       "      <td>17.824868</td>\n",
       "      <td>...</td>\n",
       "      <td>0.021777</td>\n",
       "      <td>0.022766</td>\n",
       "      <td>0.136835</td>\n",
       "      <td>0.356266</td>\n",
       "      <td>0.020739</td>\n",
       "      <td>0.302235</td>\n",
       "      <td>0.445566</td>\n",
       "      <td>0.041782</td>\n",
       "      <td>0.021777</td>\n",
       "      <td>0.022766</td>\n",
       "    </tr>\n",
       "    <tr>\n",
       "      <th>min</th>\n",
       "      <td>33.000000</td>\n",
       "      <td>56.000000</td>\n",
       "      <td>11.000000</td>\n",
       "      <td>1.000000</td>\n",
       "      <td>1.000000</td>\n",
       "      <td>3.000000</td>\n",
       "      <td>1.000000</td>\n",
       "      <td>1.000000</td>\n",
       "      <td>2.000000</td>\n",
       "      <td>1.000000</td>\n",
       "      <td>...</td>\n",
       "      <td>0.000000</td>\n",
       "      <td>0.000000</td>\n",
       "      <td>0.000000</td>\n",
       "      <td>0.000000</td>\n",
       "      <td>0.000000</td>\n",
       "      <td>0.000000</td>\n",
       "      <td>0.000000</td>\n",
       "      <td>0.000000</td>\n",
       "      <td>0.000000</td>\n",
       "      <td>0.000000</td>\n",
       "    </tr>\n",
       "    <tr>\n",
       "      <th>25%</th>\n",
       "      <td>64.000000</td>\n",
       "      <td>69.000000</td>\n",
       "      <td>45.000000</td>\n",
       "      <td>34.000000</td>\n",
       "      <td>49.000000</td>\n",
       "      <td>57.000000</td>\n",
       "      <td>35.000000</td>\n",
       "      <td>52.000000</td>\n",
       "      <td>41.000000</td>\n",
       "      <td>36.000000</td>\n",
       "      <td>...</td>\n",
       "      <td>0.000000</td>\n",
       "      <td>0.000000</td>\n",
       "      <td>0.000000</td>\n",
       "      <td>0.000000</td>\n",
       "      <td>0.000000</td>\n",
       "      <td>0.000000</td>\n",
       "      <td>0.000000</td>\n",
       "      <td>0.000000</td>\n",
       "      <td>0.000000</td>\n",
       "      <td>0.000000</td>\n",
       "    </tr>\n",
       "    <tr>\n",
       "      <th>50%</th>\n",
       "      <td>69.000000</td>\n",
       "      <td>74.000000</td>\n",
       "      <td>59.000000</td>\n",
       "      <td>53.000000</td>\n",
       "      <td>60.000000</td>\n",
       "      <td>65.000000</td>\n",
       "      <td>52.000000</td>\n",
       "      <td>64.000000</td>\n",
       "      <td>56.000000</td>\n",
       "      <td>50.000000</td>\n",
       "      <td>...</td>\n",
       "      <td>0.000000</td>\n",
       "      <td>0.000000</td>\n",
       "      <td>0.000000</td>\n",
       "      <td>0.000000</td>\n",
       "      <td>0.000000</td>\n",
       "      <td>0.000000</td>\n",
       "      <td>1.000000</td>\n",
       "      <td>0.000000</td>\n",
       "      <td>0.000000</td>\n",
       "      <td>0.000000</td>\n",
       "    </tr>\n",
       "    <tr>\n",
       "      <th>75%</th>\n",
       "      <td>73.000000</td>\n",
       "      <td>78.000000</td>\n",
       "      <td>68.000000</td>\n",
       "      <td>65.000000</td>\n",
       "      <td>68.000000</td>\n",
       "      <td>72.000000</td>\n",
       "      <td>64.000000</td>\n",
       "      <td>72.000000</td>\n",
       "      <td>67.000000</td>\n",
       "      <td>63.000000</td>\n",
       "      <td>...</td>\n",
       "      <td>0.000000</td>\n",
       "      <td>0.000000</td>\n",
       "      <td>0.000000</td>\n",
       "      <td>0.000000</td>\n",
       "      <td>0.000000</td>\n",
       "      <td>0.000000</td>\n",
       "      <td>1.000000</td>\n",
       "      <td>0.000000</td>\n",
       "      <td>0.000000</td>\n",
       "      <td>0.000000</td>\n",
       "    </tr>\n",
       "    <tr>\n",
       "      <th>max</th>\n",
       "      <td>94.000000</td>\n",
       "      <td>97.000000</td>\n",
       "      <td>95.000000</td>\n",
       "      <td>97.000000</td>\n",
       "      <td>98.000000</td>\n",
       "      <td>97.000000</td>\n",
       "      <td>93.000000</td>\n",
       "      <td>97.000000</td>\n",
       "      <td>94.000000</td>\n",
       "      <td>97.000000</td>\n",
       "      <td>...</td>\n",
       "      <td>1.000000</td>\n",
       "      <td>1.000000</td>\n",
       "      <td>1.000000</td>\n",
       "      <td>1.000000</td>\n",
       "      <td>1.000000</td>\n",
       "      <td>1.000000</td>\n",
       "      <td>1.000000</td>\n",
       "      <td>1.000000</td>\n",
       "      <td>1.000000</td>\n",
       "      <td>1.000000</td>\n",
       "    </tr>\n",
       "  </tbody>\n",
       "</table>\n",
       "<p>8 rows × 53 columns</p>\n",
       "</div>"
      ],
      "text/plain": [
       "       overall_rating      potential       crossing      finishing  \\\n",
       "count   181265.000000  181265.000000  181265.000000  181265.000000   \n",
       "mean        68.621493      73.488611      55.135713      49.939095   \n",
       "std          7.029845       6.533686      17.207646      19.047599   \n",
       "min         33.000000      56.000000      11.000000       1.000000   \n",
       "25%         64.000000      69.000000      45.000000      34.000000   \n",
       "50%         69.000000      74.000000      59.000000      53.000000   \n",
       "75%         73.000000      78.000000      68.000000      65.000000   \n",
       "max         94.000000      97.000000      95.000000      97.000000   \n",
       "\n",
       "       heading_accuracy  short_passing        volleys      dribbling  \\\n",
       "count     181265.000000  181265.000000  181265.000000  181265.000000   \n",
       "mean          57.253871      62.459885      49.468436      59.230861   \n",
       "std           16.485767      14.186580      18.256618      17.749955   \n",
       "min            1.000000       3.000000       1.000000       1.000000   \n",
       "25%           49.000000      57.000000      35.000000      52.000000   \n",
       "50%           60.000000      65.000000      52.000000      64.000000   \n",
       "75%           68.000000      72.000000      64.000000      72.000000   \n",
       "max           98.000000      97.000000      93.000000      97.000000   \n",
       "\n",
       "               curve  free_kick_accuracy  ...  attacking_work_rate_stocky  \\\n",
       "count  181265.000000       181265.000000  ...               181265.000000   \n",
       "mean       52.965675           49.380327  ...                    0.000474   \n",
       "std        18.255788           17.824868  ...                    0.021777   \n",
       "min         2.000000            1.000000  ...                    0.000000   \n",
       "25%        41.000000           36.000000  ...                    0.000000   \n",
       "50%        56.000000           50.000000  ...                    0.000000   \n",
       "75%        67.000000           63.000000  ...                    0.000000   \n",
       "max        94.000000           97.000000  ...                    1.000000   \n",
       "\n",
       "       attacking_work_rate_yes  defensive_work_rate_None  \\\n",
       "count            181265.000000             181265.000000   \n",
       "mean                  0.000519                  0.019088   \n",
       "std                   0.022766                  0.136835   \n",
       "min                   0.000000                  0.000000   \n",
       "25%                   0.000000                  0.000000   \n",
       "50%                   0.000000                  0.000000   \n",
       "75%                   0.000000                  0.000000   \n",
       "max                   1.000000                  1.000000   \n",
       "\n",
       "       defensive_work_rate_high  defensive_work_rate_lean  \\\n",
       "count             181265.000000             181265.000000   \n",
       "mean                   0.149179                  0.000430   \n",
       "std                    0.356266                  0.020739   \n",
       "min                    0.000000                  0.000000   \n",
       "25%                    0.000000                  0.000000   \n",
       "50%                    0.000000                  0.000000   \n",
       "75%                    0.000000                  0.000000   \n",
       "max                    1.000000                  1.000000   \n",
       "\n",
       "       defensive_work_rate_low  defensive_work_rate_medium  \\\n",
       "count            181265.000000               181265.000000   \n",
       "mean                  0.101685                    0.726875   \n",
       "std                   0.302235                    0.445566   \n",
       "min                   0.000000                    0.000000   \n",
       "25%                   0.000000                    0.000000   \n",
       "50%                   0.000000                    1.000000   \n",
       "75%                   0.000000                    1.000000   \n",
       "max                   1.000000                    1.000000   \n",
       "\n",
       "       defensive_work_rate_normal  defensive_work_rate_stocky  \\\n",
       "count               181265.000000               181265.000000   \n",
       "mean                     0.001749                    0.000474   \n",
       "std                      0.041782                    0.021777   \n",
       "min                      0.000000                    0.000000   \n",
       "25%                      0.000000                    0.000000   \n",
       "50%                      0.000000                    0.000000   \n",
       "75%                      0.000000                    0.000000   \n",
       "max                      1.000000                    1.000000   \n",
       "\n",
       "       defensive_work_rate_yes  \n",
       "count            181265.000000  \n",
       "mean                  0.000519  \n",
       "std                   0.022766  \n",
       "min                   0.000000  \n",
       "25%                   0.000000  \n",
       "50%                   0.000000  \n",
       "75%                   0.000000  \n",
       "max                   1.000000  \n",
       "\n",
       "[8 rows x 53 columns]"
      ]
     },
     "execution_count": 119,
     "metadata": {},
     "output_type": "execute_result"
    }
   ],
   "source": [
    "dummy_data.describe()"
   ]
  },
  {
   "cell_type": "code",
   "execution_count": 120,
   "metadata": {},
   "outputs": [],
   "source": [
    "dummy_data.reset_index(drop=True, inplace=True)"
   ]
  },
  {
   "cell_type": "markdown",
   "metadata": {},
   "source": [
    "- **separating x and y**"
   ]
  },
  {
   "cell_type": "code",
   "execution_count": 121,
   "metadata": {},
   "outputs": [],
   "source": [
    "y = dummy_data['overall_rating']\n",
    "x = dummy_data.drop(columns=['overall_rating'])"
   ]
  },
  {
   "cell_type": "markdown",
   "metadata": {},
   "source": [
    "### Creating a Base model"
   ]
  },
  {
   "cell_type": "code",
   "execution_count": 122,
   "metadata": {},
   "outputs": [
    {
     "data": {
      "text/html": [
       "<table class=\"simpletable\">\n",
       "<caption>OLS Regression Results</caption>\n",
       "<tr>\n",
       "  <th>Dep. Variable:</th>     <td>overall_rating</td>  <th>  R-squared:         </th>  <td>   0.843</td>  \n",
       "</tr>\n",
       "<tr>\n",
       "  <th>Model:</th>                   <td>OLS</td>       <th>  Adj. R-squared:    </th>  <td>   0.843</td>  \n",
       "</tr>\n",
       "<tr>\n",
       "  <th>Method:</th>             <td>Least Squares</td>  <th>  F-statistic:       </th>  <td>2.169e+04</td> \n",
       "</tr>\n",
       "<tr>\n",
       "  <th>Date:</th>             <td>Sun, 28 Mar 2021</td> <th>  Prob (F-statistic):</th>   <td>  0.00</td>   \n",
       "</tr>\n",
       "<tr>\n",
       "  <th>Time:</th>                 <td>17:51:33</td>     <th>  Log-Likelihood:    </th> <td>-4.4265e+05</td>\n",
       "</tr>\n",
       "<tr>\n",
       "  <th>No. Observations:</th>      <td>181265</td>      <th>  AIC:               </th>  <td>8.854e+05</td> \n",
       "</tr>\n",
       "<tr>\n",
       "  <th>Df Residuals:</th>          <td>181219</td>      <th>  BIC:               </th>  <td>8.859e+05</td> \n",
       "</tr>\n",
       "<tr>\n",
       "  <th>Df Model:</th>              <td>    45</td>      <th>                     </th>      <td> </td>     \n",
       "</tr>\n",
       "<tr>\n",
       "  <th>Covariance Type:</th>      <td>nonrobust</td>    <th>                     </th>      <td> </td>     \n",
       "</tr>\n",
       "</table>\n",
       "<table class=\"simpletable\">\n",
       "<tr>\n",
       "               <td></td>                 <th>coef</th>     <th>std err</th>      <th>t</th>      <th>P>|t|</th>  <th>[0.025</th>    <th>0.975]</th>  \n",
       "</tr>\n",
       "<tr>\n",
       "  <th>const</th>                      <td>   -2.1892</td> <td>    0.068</td> <td>  -32.391</td> <td> 0.000</td> <td>   -2.322</td> <td>   -2.057</td>\n",
       "</tr>\n",
       "<tr>\n",
       "  <th>potential</th>                  <td>    0.3767</td> <td>    0.001</td> <td>  257.086</td> <td> 0.000</td> <td>    0.374</td> <td>    0.380</td>\n",
       "</tr>\n",
       "<tr>\n",
       "  <th>crossing</th>                   <td>    0.0232</td> <td>    0.001</td> <td>   27.516</td> <td> 0.000</td> <td>    0.022</td> <td>    0.025</td>\n",
       "</tr>\n",
       "<tr>\n",
       "  <th>finishing</th>                  <td>    0.0123</td> <td>    0.001</td> <td>   13.334</td> <td> 0.000</td> <td>    0.010</td> <td>    0.014</td>\n",
       "</tr>\n",
       "<tr>\n",
       "  <th>heading_accuracy</th>           <td>    0.0689</td> <td>    0.001</td> <td>   84.496</td> <td> 0.000</td> <td>    0.067</td> <td>    0.070</td>\n",
       "</tr>\n",
       "<tr>\n",
       "  <th>short_passing</th>              <td>    0.0517</td> <td>    0.001</td> <td>   37.569</td> <td> 0.000</td> <td>    0.049</td> <td>    0.054</td>\n",
       "</tr>\n",
       "<tr>\n",
       "  <th>volleys</th>                    <td>    0.0026</td> <td>    0.001</td> <td>    3.168</td> <td> 0.002</td> <td>    0.001</td> <td>    0.004</td>\n",
       "</tr>\n",
       "<tr>\n",
       "  <th>dribbling</th>                  <td>   -0.0106</td> <td>    0.001</td> <td>   -9.119</td> <td> 0.000</td> <td>   -0.013</td> <td>   -0.008</td>\n",
       "</tr>\n",
       "<tr>\n",
       "  <th>curve</th>                      <td>    0.0119</td> <td>    0.001</td> <td>   14.854</td> <td> 0.000</td> <td>    0.010</td> <td>    0.013</td>\n",
       "</tr>\n",
       "<tr>\n",
       "  <th>free_kick_accuracy</th>         <td>    0.0129</td> <td>    0.001</td> <td>   18.223</td> <td> 0.000</td> <td>    0.012</td> <td>    0.014</td>\n",
       "</tr>\n",
       "<tr>\n",
       "  <th>long_passing</th>               <td>    0.0065</td> <td>    0.001</td> <td>    6.894</td> <td> 0.000</td> <td>    0.005</td> <td>    0.008</td>\n",
       "</tr>\n",
       "<tr>\n",
       "  <th>ball_control</th>               <td>    0.1345</td> <td>    0.002</td> <td>   85.011</td> <td> 0.000</td> <td>    0.131</td> <td>    0.138</td>\n",
       "</tr>\n",
       "<tr>\n",
       "  <th>acceleration</th>               <td>    0.0054</td> <td>    0.001</td> <td>    3.917</td> <td> 0.000</td> <td>    0.003</td> <td>    0.008</td>\n",
       "</tr>\n",
       "<tr>\n",
       "  <th>sprint_speed</th>               <td>    0.0112</td> <td>    0.001</td> <td>    8.589</td> <td> 0.000</td> <td>    0.009</td> <td>    0.014</td>\n",
       "</tr>\n",
       "<tr>\n",
       "  <th>agility</th>                    <td>   -0.0083</td> <td>    0.001</td> <td>   -8.205</td> <td> 0.000</td> <td>   -0.010</td> <td>   -0.006</td>\n",
       "</tr>\n",
       "<tr>\n",
       "  <th>reactions</th>                  <td>    0.2077</td> <td>    0.001</td> <td>  192.140</td> <td> 0.000</td> <td>    0.206</td> <td>    0.210</td>\n",
       "</tr>\n",
       "<tr>\n",
       "  <th>balance</th>                    <td>    0.0070</td> <td>    0.001</td> <td>    8.983</td> <td> 0.000</td> <td>    0.005</td> <td>    0.009</td>\n",
       "</tr>\n",
       "<tr>\n",
       "  <th>shot_power</th>                 <td>    0.0166</td> <td>    0.001</td> <td>   19.035</td> <td> 0.000</td> <td>    0.015</td> <td>    0.018</td>\n",
       "</tr>\n",
       "<tr>\n",
       "  <th>jumping</th>                    <td>    0.0156</td> <td>    0.001</td> <td>   21.474</td> <td> 0.000</td> <td>    0.014</td> <td>    0.017</td>\n",
       "</tr>\n",
       "<tr>\n",
       "  <th>stamina</th>                    <td>   -0.0029</td> <td>    0.001</td> <td>   -3.560</td> <td> 0.000</td> <td>   -0.005</td> <td>   -0.001</td>\n",
       "</tr>\n",
       "<tr>\n",
       "  <th>strength</th>                   <td>    0.0597</td> <td>    0.001</td> <td>   71.343</td> <td> 0.000</td> <td>    0.058</td> <td>    0.061</td>\n",
       "</tr>\n",
       "<tr>\n",
       "  <th>long_shots</th>                 <td>   -0.0138</td> <td>    0.001</td> <td>  -15.128</td> <td> 0.000</td> <td>   -0.016</td> <td>   -0.012</td>\n",
       "</tr>\n",
       "<tr>\n",
       "  <th>aggression</th>                 <td>    0.0196</td> <td>    0.001</td> <td>   28.572</td> <td> 0.000</td> <td>    0.018</td> <td>    0.021</td>\n",
       "</tr>\n",
       "<tr>\n",
       "  <th>interceptions</th>              <td>    0.0122</td> <td>    0.001</td> <td>   16.620</td> <td> 0.000</td> <td>    0.011</td> <td>    0.014</td>\n",
       "</tr>\n",
       "<tr>\n",
       "  <th>positioning</th>                <td>   -0.0088</td> <td>    0.001</td> <td>  -11.192</td> <td> 0.000</td> <td>   -0.010</td> <td>   -0.007</td>\n",
       "</tr>\n",
       "<tr>\n",
       "  <th>vision</th>                     <td>   -0.0024</td> <td>    0.001</td> <td>   -2.808</td> <td> 0.005</td> <td>   -0.004</td> <td>   -0.001</td>\n",
       "</tr>\n",
       "<tr>\n",
       "  <th>penalties</th>                  <td>    0.0133</td> <td>    0.001</td> <td>   17.821</td> <td> 0.000</td> <td>    0.012</td> <td>    0.015</td>\n",
       "</tr>\n",
       "<tr>\n",
       "  <th>marking</th>                    <td>    0.0322</td> <td>    0.001</td> <td>   28.742</td> <td> 0.000</td> <td>    0.030</td> <td>    0.034</td>\n",
       "</tr>\n",
       "<tr>\n",
       "  <th>standing_tackle</th>            <td>    0.0039</td> <td>    0.001</td> <td>    2.993</td> <td> 0.003</td> <td>    0.001</td> <td>    0.006</td>\n",
       "</tr>\n",
       "<tr>\n",
       "  <th>sliding_tackle</th>             <td>   -0.0272</td> <td>    0.001</td> <td>  -24.734</td> <td> 0.000</td> <td>   -0.029</td> <td>   -0.025</td>\n",
       "</tr>\n",
       "<tr>\n",
       "  <th>gk_diving</th>                  <td>    0.1679</td> <td>    0.001</td> <td>  115.197</td> <td> 0.000</td> <td>    0.165</td> <td>    0.171</td>\n",
       "</tr>\n",
       "<tr>\n",
       "  <th>gk_handling</th>                <td>    0.0340</td> <td>    0.002</td> <td>   17.787</td> <td> 0.000</td> <td>    0.030</td> <td>    0.038</td>\n",
       "</tr>\n",
       "<tr>\n",
       "  <th>gk_kicking</th>                 <td>   -0.0342</td> <td>    0.001</td> <td>  -55.129</td> <td> 0.000</td> <td>   -0.035</td> <td>   -0.033</td>\n",
       "</tr>\n",
       "<tr>\n",
       "  <th>gk_positioning</th>             <td>    0.0575</td> <td>    0.002</td> <td>   30.243</td> <td> 0.000</td> <td>    0.054</td> <td>    0.061</td>\n",
       "</tr>\n",
       "<tr>\n",
       "  <th>gk_reflexes</th>                <td>    0.0245</td> <td>    0.002</td> <td>   13.097</td> <td> 0.000</td> <td>    0.021</td> <td>    0.028</td>\n",
       "</tr>\n",
       "<tr>\n",
       "  <th>preferred_foot_left</th>        <td>   -1.0922</td> <td>    0.035</td> <td>  -31.145</td> <td> 0.000</td> <td>   -1.161</td> <td>   -1.023</td>\n",
       "</tr>\n",
       "<tr>\n",
       "  <th>preferred_foot_right</th>       <td>   -1.0970</td> <td>    0.034</td> <td>  -31.944</td> <td> 0.000</td> <td>   -1.164</td> <td>   -1.030</td>\n",
       "</tr>\n",
       "<tr>\n",
       "  <th>attacking_work_rate_None</th>   <td>   -0.4318</td> <td>    0.106</td> <td>   -4.085</td> <td> 0.000</td> <td>   -0.639</td> <td>   -0.225</td>\n",
       "</tr>\n",
       "<tr>\n",
       "  <th>attacking_work_rate_high</th>   <td>   -0.2251</td> <td>    0.047</td> <td>   -4.791</td> <td> 0.000</td> <td>   -0.317</td> <td>   -0.133</td>\n",
       "</tr>\n",
       "<tr>\n",
       "  <th>attacking_work_rate_lean</th>   <td>   -0.8895</td> <td>    0.143</td> <td>   -6.226</td> <td> 0.000</td> <td>   -1.169</td> <td>   -0.609</td>\n",
       "</tr>\n",
       "<tr>\n",
       "  <th>attacking_work_rate_low</th>    <td>    1.0375</td> <td>    0.051</td> <td>   20.319</td> <td> 0.000</td> <td>    0.937</td> <td>    1.138</td>\n",
       "</tr>\n",
       "<tr>\n",
       "  <th>attacking_work_rate_medium</th> <td>   -0.3134</td> <td>    0.045</td> <td>   -6.914</td> <td> 0.000</td> <td>   -0.402</td> <td>   -0.225</td>\n",
       "</tr>\n",
       "<tr>\n",
       "  <th>attacking_work_rate_normal</th> <td>   -0.2422</td> <td>    0.075</td> <td>   -3.208</td> <td> 0.001</td> <td>   -0.390</td> <td>   -0.094</td>\n",
       "</tr>\n",
       "<tr>\n",
       "  <th>attacking_work_rate_stocky</th> <td>   -0.9166</td> <td>    0.136</td> <td>   -6.720</td> <td> 0.000</td> <td>   -1.184</td> <td>   -0.649</td>\n",
       "</tr>\n",
       "<tr>\n",
       "  <th>attacking_work_rate_yes</th>    <td>   -0.2082</td> <td>    0.131</td> <td>   -1.587</td> <td> 0.113</td> <td>   -0.465</td> <td>    0.049</td>\n",
       "</tr>\n",
       "<tr>\n",
       "  <th>defensive_work_rate_None</th>   <td>   -0.0206</td> <td>    0.103</td> <td>   -0.200</td> <td> 0.841</td> <td>   -0.223</td> <td>    0.182</td>\n",
       "</tr>\n",
       "<tr>\n",
       "  <th>defensive_work_rate_high</th>   <td>   -0.0216</td> <td>    0.047</td> <td>   -0.458</td> <td> 0.647</td> <td>   -0.114</td> <td>    0.071</td>\n",
       "</tr>\n",
       "<tr>\n",
       "  <th>defensive_work_rate_lean</th>   <td>   -0.8895</td> <td>    0.143</td> <td>   -6.226</td> <td> 0.000</td> <td>   -1.169</td> <td>   -0.609</td>\n",
       "</tr>\n",
       "<tr>\n",
       "  <th>defensive_work_rate_low</th>    <td>    0.3939</td> <td>    0.048</td> <td>    8.182</td> <td> 0.000</td> <td>    0.300</td> <td>    0.488</td>\n",
       "</tr>\n",
       "<tr>\n",
       "  <th>defensive_work_rate_medium</th> <td>   -0.2845</td> <td>    0.045</td> <td>   -6.309</td> <td> 0.000</td> <td>   -0.373</td> <td>   -0.196</td>\n",
       "</tr>\n",
       "<tr>\n",
       "  <th>defensive_work_rate_normal</th> <td>   -0.2422</td> <td>    0.075</td> <td>   -3.208</td> <td> 0.001</td> <td>   -0.390</td> <td>   -0.094</td>\n",
       "</tr>\n",
       "<tr>\n",
       "  <th>defensive_work_rate_stocky</th> <td>   -0.9166</td> <td>    0.136</td> <td>   -6.720</td> <td> 0.000</td> <td>   -1.184</td> <td>   -0.649</td>\n",
       "</tr>\n",
       "<tr>\n",
       "  <th>defensive_work_rate_yes</th>    <td>   -0.2082</td> <td>    0.131</td> <td>   -1.587</td> <td> 0.113</td> <td>   -0.465</td> <td>    0.049</td>\n",
       "</tr>\n",
       "</table>\n",
       "<table class=\"simpletable\">\n",
       "<tr>\n",
       "  <th>Omnibus:</th>       <td>7828.942</td> <th>  Durbin-Watson:     </th> <td>   0.379</td> \n",
       "</tr>\n",
       "<tr>\n",
       "  <th>Prob(Omnibus):</th>  <td> 0.000</td>  <th>  Jarque-Bera (JB):  </th> <td>17707.123</td>\n",
       "</tr>\n",
       "<tr>\n",
       "  <th>Skew:</th>           <td>-0.276</td>  <th>  Prob(JB):          </th> <td>    0.00</td> \n",
       "</tr>\n",
       "<tr>\n",
       "  <th>Kurtosis:</th>       <td> 4.428</td>  <th>  Cond. No.          </th> <td>1.01e+16</td> \n",
       "</tr>\n",
       "</table><br/><br/>Warnings:<br/>[1] Standard Errors assume that the covariance matrix of the errors is correctly specified.<br/>[2] The smallest eigenvalue is 1.87e-22. This might indicate that there are<br/>strong multicollinearity problems or that the design matrix is singular."
      ],
      "text/plain": [
       "<class 'statsmodels.iolib.summary.Summary'>\n",
       "\"\"\"\n",
       "                            OLS Regression Results                            \n",
       "==============================================================================\n",
       "Dep. Variable:         overall_rating   R-squared:                       0.843\n",
       "Model:                            OLS   Adj. R-squared:                  0.843\n",
       "Method:                 Least Squares   F-statistic:                 2.169e+04\n",
       "Date:                Sun, 28 Mar 2021   Prob (F-statistic):               0.00\n",
       "Time:                        17:51:33   Log-Likelihood:            -4.4265e+05\n",
       "No. Observations:              181265   AIC:                         8.854e+05\n",
       "Df Residuals:                  181219   BIC:                         8.859e+05\n",
       "Df Model:                          45                                         \n",
       "Covariance Type:            nonrobust                                         \n",
       "==============================================================================================\n",
       "                                 coef    std err          t      P>|t|      [0.025      0.975]\n",
       "----------------------------------------------------------------------------------------------\n",
       "const                         -2.1892      0.068    -32.391      0.000      -2.322      -2.057\n",
       "potential                      0.3767      0.001    257.086      0.000       0.374       0.380\n",
       "crossing                       0.0232      0.001     27.516      0.000       0.022       0.025\n",
       "finishing                      0.0123      0.001     13.334      0.000       0.010       0.014\n",
       "heading_accuracy               0.0689      0.001     84.496      0.000       0.067       0.070\n",
       "short_passing                  0.0517      0.001     37.569      0.000       0.049       0.054\n",
       "volleys                        0.0026      0.001      3.168      0.002       0.001       0.004\n",
       "dribbling                     -0.0106      0.001     -9.119      0.000      -0.013      -0.008\n",
       "curve                          0.0119      0.001     14.854      0.000       0.010       0.013\n",
       "free_kick_accuracy             0.0129      0.001     18.223      0.000       0.012       0.014\n",
       "long_passing                   0.0065      0.001      6.894      0.000       0.005       0.008\n",
       "ball_control                   0.1345      0.002     85.011      0.000       0.131       0.138\n",
       "acceleration                   0.0054      0.001      3.917      0.000       0.003       0.008\n",
       "sprint_speed                   0.0112      0.001      8.589      0.000       0.009       0.014\n",
       "agility                       -0.0083      0.001     -8.205      0.000      -0.010      -0.006\n",
       "reactions                      0.2077      0.001    192.140      0.000       0.206       0.210\n",
       "balance                        0.0070      0.001      8.983      0.000       0.005       0.009\n",
       "shot_power                     0.0166      0.001     19.035      0.000       0.015       0.018\n",
       "jumping                        0.0156      0.001     21.474      0.000       0.014       0.017\n",
       "stamina                       -0.0029      0.001     -3.560      0.000      -0.005      -0.001\n",
       "strength                       0.0597      0.001     71.343      0.000       0.058       0.061\n",
       "long_shots                    -0.0138      0.001    -15.128      0.000      -0.016      -0.012\n",
       "aggression                     0.0196      0.001     28.572      0.000       0.018       0.021\n",
       "interceptions                  0.0122      0.001     16.620      0.000       0.011       0.014\n",
       "positioning                   -0.0088      0.001    -11.192      0.000      -0.010      -0.007\n",
       "vision                        -0.0024      0.001     -2.808      0.005      -0.004      -0.001\n",
       "penalties                      0.0133      0.001     17.821      0.000       0.012       0.015\n",
       "marking                        0.0322      0.001     28.742      0.000       0.030       0.034\n",
       "standing_tackle                0.0039      0.001      2.993      0.003       0.001       0.006\n",
       "sliding_tackle                -0.0272      0.001    -24.734      0.000      -0.029      -0.025\n",
       "gk_diving                      0.1679      0.001    115.197      0.000       0.165       0.171\n",
       "gk_handling                    0.0340      0.002     17.787      0.000       0.030       0.038\n",
       "gk_kicking                    -0.0342      0.001    -55.129      0.000      -0.035      -0.033\n",
       "gk_positioning                 0.0575      0.002     30.243      0.000       0.054       0.061\n",
       "gk_reflexes                    0.0245      0.002     13.097      0.000       0.021       0.028\n",
       "preferred_foot_left           -1.0922      0.035    -31.145      0.000      -1.161      -1.023\n",
       "preferred_foot_right          -1.0970      0.034    -31.944      0.000      -1.164      -1.030\n",
       "attacking_work_rate_None      -0.4318      0.106     -4.085      0.000      -0.639      -0.225\n",
       "attacking_work_rate_high      -0.2251      0.047     -4.791      0.000      -0.317      -0.133\n",
       "attacking_work_rate_lean      -0.8895      0.143     -6.226      0.000      -1.169      -0.609\n",
       "attacking_work_rate_low        1.0375      0.051     20.319      0.000       0.937       1.138\n",
       "attacking_work_rate_medium    -0.3134      0.045     -6.914      0.000      -0.402      -0.225\n",
       "attacking_work_rate_normal    -0.2422      0.075     -3.208      0.001      -0.390      -0.094\n",
       "attacking_work_rate_stocky    -0.9166      0.136     -6.720      0.000      -1.184      -0.649\n",
       "attacking_work_rate_yes       -0.2082      0.131     -1.587      0.113      -0.465       0.049\n",
       "defensive_work_rate_None      -0.0206      0.103     -0.200      0.841      -0.223       0.182\n",
       "defensive_work_rate_high      -0.0216      0.047     -0.458      0.647      -0.114       0.071\n",
       "defensive_work_rate_lean      -0.8895      0.143     -6.226      0.000      -1.169      -0.609\n",
       "defensive_work_rate_low        0.3939      0.048      8.182      0.000       0.300       0.488\n",
       "defensive_work_rate_medium    -0.2845      0.045     -6.309      0.000      -0.373      -0.196\n",
       "defensive_work_rate_normal    -0.2422      0.075     -3.208      0.001      -0.390      -0.094\n",
       "defensive_work_rate_stocky    -0.9166      0.136     -6.720      0.000      -1.184      -0.649\n",
       "defensive_work_rate_yes       -0.2082      0.131     -1.587      0.113      -0.465       0.049\n",
       "==============================================================================\n",
       "Omnibus:                     7828.942   Durbin-Watson:                   0.379\n",
       "Prob(Omnibus):                  0.000   Jarque-Bera (JB):            17707.123\n",
       "Skew:                          -0.276   Prob(JB):                         0.00\n",
       "Kurtosis:                       4.428   Cond. No.                     1.01e+16\n",
       "==============================================================================\n",
       "\n",
       "Warnings:\n",
       "[1] Standard Errors assume that the covariance matrix of the errors is correctly specified.\n",
       "[2] The smallest eigenvalue is 1.87e-22. This might indicate that there are\n",
       "strong multicollinearity problems or that the design matrix is singular.\n",
       "\"\"\""
      ]
     },
     "execution_count": 122,
     "metadata": {},
     "output_type": "execute_result"
    }
   ],
   "source": [
    "x_lm = sm.add_constant(x)   # add a constant\n",
    "lr = sm.OLS(y, x_lm).fit()  # build the model\n",
    "lr.summary()"
   ]
  },
  {
   "cell_type": "markdown",
   "metadata": {},
   "source": [
    "- As we can see that p-value of mostly all the categorical features are more than `0.05` and value of condition no. is around 10^16, which is showing high multicollinearity. Lets remove all these categorical features and their label encoding."
   ]
  },
  {
   "cell_type": "code",
   "execution_count": 123,
   "metadata": {},
   "outputs": [],
   "source": [
    "# Removing categorical features and their respective labels\n",
    "new_x = x.iloc[:,:-16]"
   ]
  },
  {
   "cell_type": "markdown",
   "metadata": {},
   "source": [
    "### **after removing features**"
   ]
  },
  {
   "cell_type": "code",
   "execution_count": 124,
   "metadata": {},
   "outputs": [
    {
     "data": {
      "text/html": [
       "<table class=\"simpletable\">\n",
       "<caption>OLS Regression Results</caption>\n",
       "<tr>\n",
       "  <th>Dep. Variable:</th>     <td>overall_rating</td>  <th>  R-squared:         </th>  <td>   0.841</td>  \n",
       "</tr>\n",
       "<tr>\n",
       "  <th>Model:</th>                   <td>OLS</td>       <th>  Adj. R-squared:    </th>  <td>   0.841</td>  \n",
       "</tr>\n",
       "<tr>\n",
       "  <th>Method:</th>             <td>Least Squares</td>  <th>  F-statistic:       </th>  <td>2.736e+04</td> \n",
       "</tr>\n",
       "<tr>\n",
       "  <th>Date:</th>             <td>Sun, 28 Mar 2021</td> <th>  Prob (F-statistic):</th>   <td>  0.00</td>   \n",
       "</tr>\n",
       "<tr>\n",
       "  <th>Time:</th>                 <td>17:51:44</td>     <th>  Log-Likelihood:    </th> <td>-4.4413e+05</td>\n",
       "</tr>\n",
       "<tr>\n",
       "  <th>No. Observations:</th>      <td>181265</td>      <th>  AIC:               </th>  <td>8.883e+05</td> \n",
       "</tr>\n",
       "<tr>\n",
       "  <th>Df Residuals:</th>          <td>181229</td>      <th>  BIC:               </th>  <td>8.887e+05</td> \n",
       "</tr>\n",
       "<tr>\n",
       "  <th>Df Model:</th>              <td>    35</td>      <th>                     </th>      <td> </td>     \n",
       "</tr>\n",
       "<tr>\n",
       "  <th>Covariance Type:</th>      <td>nonrobust</td>    <th>                     </th>      <td> </td>     \n",
       "</tr>\n",
       "</table>\n",
       "<table class=\"simpletable\">\n",
       "<tr>\n",
       "            <td></td>              <th>coef</th>     <th>std err</th>      <th>t</th>      <th>P>|t|</th>  <th>[0.025</th>    <th>0.975]</th>  \n",
       "</tr>\n",
       "<tr>\n",
       "  <th>const</th>                <td>   -2.5468</td> <td>    0.063</td> <td>  -40.315</td> <td> 0.000</td> <td>   -2.671</td> <td>   -2.423</td>\n",
       "</tr>\n",
       "<tr>\n",
       "  <th>potential</th>            <td>    0.3790</td> <td>    0.001</td> <td>  256.885</td> <td> 0.000</td> <td>    0.376</td> <td>    0.382</td>\n",
       "</tr>\n",
       "<tr>\n",
       "  <th>crossing</th>             <td>    0.0225</td> <td>    0.001</td> <td>   26.475</td> <td> 0.000</td> <td>    0.021</td> <td>    0.024</td>\n",
       "</tr>\n",
       "<tr>\n",
       "  <th>finishing</th>            <td>    0.0117</td> <td>    0.001</td> <td>   12.602</td> <td> 0.000</td> <td>    0.010</td> <td>    0.013</td>\n",
       "</tr>\n",
       "<tr>\n",
       "  <th>heading_accuracy</th>     <td>    0.0699</td> <td>    0.001</td> <td>   85.195</td> <td> 0.000</td> <td>    0.068</td> <td>    0.072</td>\n",
       "</tr>\n",
       "<tr>\n",
       "  <th>short_passing</th>        <td>    0.0506</td> <td>    0.001</td> <td>   36.574</td> <td> 0.000</td> <td>    0.048</td> <td>    0.053</td>\n",
       "</tr>\n",
       "<tr>\n",
       "  <th>volleys</th>              <td>    0.0038</td> <td>    0.001</td> <td>    4.539</td> <td> 0.000</td> <td>    0.002</td> <td>    0.005</td>\n",
       "</tr>\n",
       "<tr>\n",
       "  <th>dribbling</th>            <td>   -0.0127</td> <td>    0.001</td> <td>  -10.857</td> <td> 0.000</td> <td>   -0.015</td> <td>   -0.010</td>\n",
       "</tr>\n",
       "<tr>\n",
       "  <th>curve</th>                <td>    0.0114</td> <td>    0.001</td> <td>   14.218</td> <td> 0.000</td> <td>    0.010</td> <td>    0.013</td>\n",
       "</tr>\n",
       "<tr>\n",
       "  <th>free_kick_accuracy</th>   <td>    0.0128</td> <td>    0.001</td> <td>   17.915</td> <td> 0.000</td> <td>    0.011</td> <td>    0.014</td>\n",
       "</tr>\n",
       "<tr>\n",
       "  <th>long_passing</th>         <td>    0.0067</td> <td>    0.001</td> <td>    7.126</td> <td> 0.000</td> <td>    0.005</td> <td>    0.009</td>\n",
       "</tr>\n",
       "<tr>\n",
       "  <th>ball_control</th>         <td>    0.1363</td> <td>    0.002</td> <td>   85.599</td> <td> 0.000</td> <td>    0.133</td> <td>    0.139</td>\n",
       "</tr>\n",
       "<tr>\n",
       "  <th>acceleration</th>         <td>    0.0059</td> <td>    0.001</td> <td>    4.273</td> <td> 0.000</td> <td>    0.003</td> <td>    0.009</td>\n",
       "</tr>\n",
       "<tr>\n",
       "  <th>sprint_speed</th>         <td>    0.0095</td> <td>    0.001</td> <td>    7.249</td> <td> 0.000</td> <td>    0.007</td> <td>    0.012</td>\n",
       "</tr>\n",
       "<tr>\n",
       "  <th>agility</th>              <td>   -0.0083</td> <td>    0.001</td> <td>   -8.161</td> <td> 0.000</td> <td>   -0.010</td> <td>   -0.006</td>\n",
       "</tr>\n",
       "<tr>\n",
       "  <th>reactions</th>            <td>    0.2098</td> <td>    0.001</td> <td>  192.682</td> <td> 0.000</td> <td>    0.208</td> <td>    0.212</td>\n",
       "</tr>\n",
       "<tr>\n",
       "  <th>balance</th>              <td>    0.0079</td> <td>    0.001</td> <td>   10.029</td> <td> 0.000</td> <td>    0.006</td> <td>    0.009</td>\n",
       "</tr>\n",
       "<tr>\n",
       "  <th>shot_power</th>           <td>    0.0168</td> <td>    0.001</td> <td>   19.018</td> <td> 0.000</td> <td>    0.015</td> <td>    0.018</td>\n",
       "</tr>\n",
       "<tr>\n",
       "  <th>jumping</th>              <td>    0.0158</td> <td>    0.001</td> <td>   21.571</td> <td> 0.000</td> <td>    0.014</td> <td>    0.017</td>\n",
       "</tr>\n",
       "<tr>\n",
       "  <th>stamina</th>              <td>   -0.0050</td> <td>    0.001</td> <td>   -6.118</td> <td> 0.000</td> <td>   -0.007</td> <td>   -0.003</td>\n",
       "</tr>\n",
       "<tr>\n",
       "  <th>strength</th>             <td>    0.0619</td> <td>    0.001</td> <td>   73.498</td> <td> 0.000</td> <td>    0.060</td> <td>    0.064</td>\n",
       "</tr>\n",
       "<tr>\n",
       "  <th>long_shots</th>           <td>   -0.0134</td> <td>    0.001</td> <td>  -14.595</td> <td> 0.000</td> <td>   -0.015</td> <td>   -0.012</td>\n",
       "</tr>\n",
       "<tr>\n",
       "  <th>aggression</th>           <td>    0.0200</td> <td>    0.001</td> <td>   29.081</td> <td> 0.000</td> <td>    0.019</td> <td>    0.021</td>\n",
       "</tr>\n",
       "<tr>\n",
       "  <th>interceptions</th>        <td>    0.0126</td> <td>    0.001</td> <td>   17.042</td> <td> 0.000</td> <td>    0.011</td> <td>    0.014</td>\n",
       "</tr>\n",
       "<tr>\n",
       "  <th>positioning</th>          <td>   -0.0102</td> <td>    0.001</td> <td>  -12.901</td> <td> 0.000</td> <td>   -0.012</td> <td>   -0.009</td>\n",
       "</tr>\n",
       "<tr>\n",
       "  <th>vision</th>               <td>   -0.0027</td> <td>    0.001</td> <td>   -3.028</td> <td> 0.002</td> <td>   -0.004</td> <td>   -0.001</td>\n",
       "</tr>\n",
       "<tr>\n",
       "  <th>penalties</th>            <td>    0.0142</td> <td>    0.001</td> <td>   18.931</td> <td> 0.000</td> <td>    0.013</td> <td>    0.016</td>\n",
       "</tr>\n",
       "<tr>\n",
       "  <th>marking</th>              <td>    0.0329</td> <td>    0.001</td> <td>   29.138</td> <td> 0.000</td> <td>    0.031</td> <td>    0.035</td>\n",
       "</tr>\n",
       "<tr>\n",
       "  <th>standing_tackle</th>      <td>    0.0031</td> <td>    0.001</td> <td>    2.410</td> <td> 0.016</td> <td>    0.001</td> <td>    0.006</td>\n",
       "</tr>\n",
       "<tr>\n",
       "  <th>sliding_tackle</th>       <td>   -0.0288</td> <td>    0.001</td> <td>  -26.030</td> <td> 0.000</td> <td>   -0.031</td> <td>   -0.027</td>\n",
       "</tr>\n",
       "<tr>\n",
       "  <th>gk_diving</th>            <td>    0.1656</td> <td>    0.001</td> <td>  112.786</td> <td> 0.000</td> <td>    0.163</td> <td>    0.168</td>\n",
       "</tr>\n",
       "<tr>\n",
       "  <th>gk_handling</th>          <td>    0.0331</td> <td>    0.002</td> <td>   17.147</td> <td> 0.000</td> <td>    0.029</td> <td>    0.037</td>\n",
       "</tr>\n",
       "<tr>\n",
       "  <th>gk_kicking</th>           <td>   -0.0333</td> <td>    0.001</td> <td>  -53.433</td> <td> 0.000</td> <td>   -0.035</td> <td>   -0.032</td>\n",
       "</tr>\n",
       "<tr>\n",
       "  <th>gk_positioning</th>       <td>    0.0550</td> <td>    0.002</td> <td>   28.683</td> <td> 0.000</td> <td>    0.051</td> <td>    0.059</td>\n",
       "</tr>\n",
       "<tr>\n",
       "  <th>gk_reflexes</th>          <td>    0.0237</td> <td>    0.002</td> <td>   12.606</td> <td> 0.000</td> <td>    0.020</td> <td>    0.027</td>\n",
       "</tr>\n",
       "<tr>\n",
       "  <th>preferred_foot_left</th>  <td>   -1.2780</td> <td>    0.033</td> <td>  -38.809</td> <td> 0.000</td> <td>   -1.343</td> <td>   -1.214</td>\n",
       "</tr>\n",
       "<tr>\n",
       "  <th>preferred_foot_right</th> <td>   -1.2687</td> <td>    0.032</td> <td>  -39.387</td> <td> 0.000</td> <td>   -1.332</td> <td>   -1.206</td>\n",
       "</tr>\n",
       "</table>\n",
       "<table class=\"simpletable\">\n",
       "<tr>\n",
       "  <th>Omnibus:</th>       <td>7437.759</td> <th>  Durbin-Watson:     </th> <td>   0.374</td> \n",
       "</tr>\n",
       "<tr>\n",
       "  <th>Prob(Omnibus):</th>  <td> 0.000</td>  <th>  Jarque-Bera (JB):  </th> <td>16867.506</td>\n",
       "</tr>\n",
       "<tr>\n",
       "  <th>Skew:</th>           <td>-0.258</td>  <th>  Prob(JB):          </th> <td>    0.00</td> \n",
       "</tr>\n",
       "<tr>\n",
       "  <th>Kurtosis:</th>       <td> 4.402</td>  <th>  Cond. No.          </th> <td>6.22e+15</td> \n",
       "</tr>\n",
       "</table><br/><br/>Warnings:<br/>[1] Standard Errors assume that the covariance matrix of the errors is correctly specified.<br/>[2] The smallest eigenvalue is 4.95e-22. This might indicate that there are<br/>strong multicollinearity problems or that the design matrix is singular."
      ],
      "text/plain": [
       "<class 'statsmodels.iolib.summary.Summary'>\n",
       "\"\"\"\n",
       "                            OLS Regression Results                            \n",
       "==============================================================================\n",
       "Dep. Variable:         overall_rating   R-squared:                       0.841\n",
       "Model:                            OLS   Adj. R-squared:                  0.841\n",
       "Method:                 Least Squares   F-statistic:                 2.736e+04\n",
       "Date:                Sun, 28 Mar 2021   Prob (F-statistic):               0.00\n",
       "Time:                        17:51:44   Log-Likelihood:            -4.4413e+05\n",
       "No. Observations:              181265   AIC:                         8.883e+05\n",
       "Df Residuals:                  181229   BIC:                         8.887e+05\n",
       "Df Model:                          35                                         \n",
       "Covariance Type:            nonrobust                                         \n",
       "========================================================================================\n",
       "                           coef    std err          t      P>|t|      [0.025      0.975]\n",
       "----------------------------------------------------------------------------------------\n",
       "const                   -2.5468      0.063    -40.315      0.000      -2.671      -2.423\n",
       "potential                0.3790      0.001    256.885      0.000       0.376       0.382\n",
       "crossing                 0.0225      0.001     26.475      0.000       0.021       0.024\n",
       "finishing                0.0117      0.001     12.602      0.000       0.010       0.013\n",
       "heading_accuracy         0.0699      0.001     85.195      0.000       0.068       0.072\n",
       "short_passing            0.0506      0.001     36.574      0.000       0.048       0.053\n",
       "volleys                  0.0038      0.001      4.539      0.000       0.002       0.005\n",
       "dribbling               -0.0127      0.001    -10.857      0.000      -0.015      -0.010\n",
       "curve                    0.0114      0.001     14.218      0.000       0.010       0.013\n",
       "free_kick_accuracy       0.0128      0.001     17.915      0.000       0.011       0.014\n",
       "long_passing             0.0067      0.001      7.126      0.000       0.005       0.009\n",
       "ball_control             0.1363      0.002     85.599      0.000       0.133       0.139\n",
       "acceleration             0.0059      0.001      4.273      0.000       0.003       0.009\n",
       "sprint_speed             0.0095      0.001      7.249      0.000       0.007       0.012\n",
       "agility                 -0.0083      0.001     -8.161      0.000      -0.010      -0.006\n",
       "reactions                0.2098      0.001    192.682      0.000       0.208       0.212\n",
       "balance                  0.0079      0.001     10.029      0.000       0.006       0.009\n",
       "shot_power               0.0168      0.001     19.018      0.000       0.015       0.018\n",
       "jumping                  0.0158      0.001     21.571      0.000       0.014       0.017\n",
       "stamina                 -0.0050      0.001     -6.118      0.000      -0.007      -0.003\n",
       "strength                 0.0619      0.001     73.498      0.000       0.060       0.064\n",
       "long_shots              -0.0134      0.001    -14.595      0.000      -0.015      -0.012\n",
       "aggression               0.0200      0.001     29.081      0.000       0.019       0.021\n",
       "interceptions            0.0126      0.001     17.042      0.000       0.011       0.014\n",
       "positioning             -0.0102      0.001    -12.901      0.000      -0.012      -0.009\n",
       "vision                  -0.0027      0.001     -3.028      0.002      -0.004      -0.001\n",
       "penalties                0.0142      0.001     18.931      0.000       0.013       0.016\n",
       "marking                  0.0329      0.001     29.138      0.000       0.031       0.035\n",
       "standing_tackle          0.0031      0.001      2.410      0.016       0.001       0.006\n",
       "sliding_tackle          -0.0288      0.001    -26.030      0.000      -0.031      -0.027\n",
       "gk_diving                0.1656      0.001    112.786      0.000       0.163       0.168\n",
       "gk_handling              0.0331      0.002     17.147      0.000       0.029       0.037\n",
       "gk_kicking              -0.0333      0.001    -53.433      0.000      -0.035      -0.032\n",
       "gk_positioning           0.0550      0.002     28.683      0.000       0.051       0.059\n",
       "gk_reflexes              0.0237      0.002     12.606      0.000       0.020       0.027\n",
       "preferred_foot_left     -1.2780      0.033    -38.809      0.000      -1.343      -1.214\n",
       "preferred_foot_right    -1.2687      0.032    -39.387      0.000      -1.332      -1.206\n",
       "==============================================================================\n",
       "Omnibus:                     7437.759   Durbin-Watson:                   0.374\n",
       "Prob(Omnibus):                  0.000   Jarque-Bera (JB):            16867.506\n",
       "Skew:                          -0.258   Prob(JB):                         0.00\n",
       "Kurtosis:                       4.402   Cond. No.                     6.22e+15\n",
       "==============================================================================\n",
       "\n",
       "Warnings:\n",
       "[1] Standard Errors assume that the covariance matrix of the errors is correctly specified.\n",
       "[2] The smallest eigenvalue is 4.95e-22. This might indicate that there are\n",
       "strong multicollinearity problems or that the design matrix is singular.\n",
       "\"\"\""
      ]
     },
     "execution_count": 124,
     "metadata": {},
     "output_type": "execute_result"
    }
   ],
   "source": [
    "new_x_lm = sm.add_constant(new_x)\n",
    "lr2 = sm.OLS(y, new_x_lm).fit()\n",
    "lr2.summary()"
   ]
  },
  {
   "cell_type": "markdown",
   "metadata": {},
   "source": [
    "- Multicollineairy is **decreased from 10^16 to 4950**. Suggesting the categorical feature we removed have lower variance among them with higher correlation.\n",
    "\n",
    "- All the features now have less than `0.05 p-value` suggesting all these features are statistically significant."
   ]
  },
  {
   "cell_type": "markdown",
   "metadata": {},
   "source": [
    "### Feature importance"
   ]
  },
  {
   "cell_type": "code",
   "execution_count": 125,
   "metadata": {},
   "outputs": [],
   "source": [
    "best_feature = SelectKBest(score_func=chi2, k=10)\n",
    "fit = best_feature.fit(new_x, y)"
   ]
  },
  {
   "cell_type": "code",
   "execution_count": 126,
   "metadata": {},
   "outputs": [],
   "source": [
    "df_score = pd.DataFrame(fit.scores_)\n",
    "df_columns = pd.DataFrame(new_x.columns)"
   ]
  },
  {
   "cell_type": "code",
   "execution_count": 127,
   "metadata": {},
   "outputs": [],
   "source": [
    "feature_score = pd.concat([df_columns,df_score], axis=1)\n",
    "feature_score.columns = [\"Features\",\"Score\"]"
   ]
  },
  {
   "cell_type": "code",
   "execution_count": 128,
   "metadata": {},
   "outputs": [
    {
     "data": {
      "text/html": [
       "<div>\n",
       "<style scoped>\n",
       "    .dataframe tbody tr th:only-of-type {\n",
       "        vertical-align: middle;\n",
       "    }\n",
       "\n",
       "    .dataframe tbody tr th {\n",
       "        vertical-align: top;\n",
       "    }\n",
       "\n",
       "    .dataframe thead th {\n",
       "        text-align: right;\n",
       "    }\n",
       "</style>\n",
       "<table border=\"1\" class=\"dataframe\">\n",
       "  <thead>\n",
       "    <tr style=\"text-align: right;\">\n",
       "      <th></th>\n",
       "      <th>Features</th>\n",
       "      <th>Score</th>\n",
       "    </tr>\n",
       "  </thead>\n",
       "  <tbody>\n",
       "    <tr>\n",
       "      <th>20</th>\n",
       "      <td>long_shots</td>\n",
       "      <td>179272.528121</td>\n",
       "    </tr>\n",
       "    <tr>\n",
       "      <th>5</th>\n",
       "      <td>volleys</td>\n",
       "      <td>164229.099162</td>\n",
       "    </tr>\n",
       "    <tr>\n",
       "      <th>23</th>\n",
       "      <td>positioning</td>\n",
       "      <td>153053.332426</td>\n",
       "    </tr>\n",
       "    <tr>\n",
       "      <th>7</th>\n",
       "      <td>curve</td>\n",
       "      <td>149298.789192</td>\n",
       "    </tr>\n",
       "    <tr>\n",
       "      <th>2</th>\n",
       "      <td>finishing</td>\n",
       "      <td>145320.460249</td>\n",
       "    </tr>\n",
       "    <tr>\n",
       "      <th>8</th>\n",
       "      <td>free_kick_accuracy</td>\n",
       "      <td>144977.250480</td>\n",
       "    </tr>\n",
       "    <tr>\n",
       "      <th>16</th>\n",
       "      <td>shot_power</td>\n",
       "      <td>142979.536455</td>\n",
       "    </tr>\n",
       "    <tr>\n",
       "      <th>14</th>\n",
       "      <td>reactions</td>\n",
       "      <td>137520.610528</td>\n",
       "    </tr>\n",
       "    <tr>\n",
       "      <th>24</th>\n",
       "      <td>vision</td>\n",
       "      <td>136666.437264</td>\n",
       "    </tr>\n",
       "    <tr>\n",
       "      <th>10</th>\n",
       "      <td>ball_control</td>\n",
       "      <td>131525.842989</td>\n",
       "    </tr>\n",
       "    <tr>\n",
       "      <th>1</th>\n",
       "      <td>crossing</td>\n",
       "      <td>126987.559091</td>\n",
       "    </tr>\n",
       "    <tr>\n",
       "      <th>9</th>\n",
       "      <td>long_passing</td>\n",
       "      <td>125802.830704</td>\n",
       "    </tr>\n",
       "    <tr>\n",
       "      <th>25</th>\n",
       "      <td>penalties</td>\n",
       "      <td>125468.877470</td>\n",
       "    </tr>\n",
       "    <tr>\n",
       "      <th>4</th>\n",
       "      <td>short_passing</td>\n",
       "      <td>123398.068087</td>\n",
       "    </tr>\n",
       "    <tr>\n",
       "      <th>6</th>\n",
       "      <td>dribbling</td>\n",
       "      <td>122102.194778</td>\n",
       "    </tr>\n",
       "    <tr>\n",
       "      <th>3</th>\n",
       "      <td>heading_accuracy</td>\n",
       "      <td>87425.364342</td>\n",
       "    </tr>\n",
       "    <tr>\n",
       "      <th>21</th>\n",
       "      <td>aggression</td>\n",
       "      <td>87236.796174</td>\n",
       "    </tr>\n",
       "    <tr>\n",
       "      <th>22</th>\n",
       "      <td>interceptions</td>\n",
       "      <td>86200.237791</td>\n",
       "    </tr>\n",
       "    <tr>\n",
       "      <th>0</th>\n",
       "      <td>potential</td>\n",
       "      <td>63350.096326</td>\n",
       "    </tr>\n",
       "    <tr>\n",
       "      <th>27</th>\n",
       "      <td>standing_tackle</td>\n",
       "      <td>53318.118658</td>\n",
       "    </tr>\n",
       "    <tr>\n",
       "      <th>18</th>\n",
       "      <td>stamina</td>\n",
       "      <td>52436.871880</td>\n",
       "    </tr>\n",
       "    <tr>\n",
       "      <th>19</th>\n",
       "      <td>strength</td>\n",
       "      <td>43885.662641</td>\n",
       "    </tr>\n",
       "    <tr>\n",
       "      <th>31</th>\n",
       "      <td>gk_kicking</td>\n",
       "      <td>41625.077892</td>\n",
       "    </tr>\n",
       "    <tr>\n",
       "      <th>26</th>\n",
       "      <td>marking</td>\n",
       "      <td>41029.399954</td>\n",
       "    </tr>\n",
       "    <tr>\n",
       "      <th>28</th>\n",
       "      <td>sliding_tackle</td>\n",
       "      <td>36762.099072</td>\n",
       "    </tr>\n",
       "    <tr>\n",
       "      <th>12</th>\n",
       "      <td>sprint_speed</td>\n",
       "      <td>27532.455149</td>\n",
       "    </tr>\n",
       "    <tr>\n",
       "      <th>11</th>\n",
       "      <td>acceleration</td>\n",
       "      <td>27500.683044</td>\n",
       "    </tr>\n",
       "    <tr>\n",
       "      <th>13</th>\n",
       "      <td>agility</td>\n",
       "      <td>27337.707550</td>\n",
       "    </tr>\n",
       "    <tr>\n",
       "      <th>17</th>\n",
       "      <td>jumping</td>\n",
       "      <td>22828.634762</td>\n",
       "    </tr>\n",
       "    <tr>\n",
       "      <th>15</th>\n",
       "      <td>balance</td>\n",
       "      <td>13211.298932</td>\n",
       "    </tr>\n",
       "    <tr>\n",
       "      <th>33</th>\n",
       "      <td>gk_reflexes</td>\n",
       "      <td>11739.099112</td>\n",
       "    </tr>\n",
       "    <tr>\n",
       "      <th>30</th>\n",
       "      <td>gk_handling</td>\n",
       "      <td>10336.628700</td>\n",
       "    </tr>\n",
       "    <tr>\n",
       "      <th>32</th>\n",
       "      <td>gk_positioning</td>\n",
       "      <td>9729.880011</td>\n",
       "    </tr>\n",
       "    <tr>\n",
       "      <th>29</th>\n",
       "      <td>gk_diving</td>\n",
       "      <td>9075.903555</td>\n",
       "    </tr>\n",
       "    <tr>\n",
       "      <th>34</th>\n",
       "      <td>preferred_foot_left</td>\n",
       "      <td>363.816875</td>\n",
       "    </tr>\n",
       "    <tr>\n",
       "      <th>35</th>\n",
       "      <td>preferred_foot_right</td>\n",
       "      <td>117.715226</td>\n",
       "    </tr>\n",
       "  </tbody>\n",
       "</table>\n",
       "</div>"
      ],
      "text/plain": [
       "                Features          Score\n",
       "20            long_shots  179272.528121\n",
       "5                volleys  164229.099162\n",
       "23           positioning  153053.332426\n",
       "7                  curve  149298.789192\n",
       "2              finishing  145320.460249\n",
       "8     free_kick_accuracy  144977.250480\n",
       "16            shot_power  142979.536455\n",
       "14             reactions  137520.610528\n",
       "24                vision  136666.437264\n",
       "10          ball_control  131525.842989\n",
       "1               crossing  126987.559091\n",
       "9           long_passing  125802.830704\n",
       "25             penalties  125468.877470\n",
       "4          short_passing  123398.068087\n",
       "6              dribbling  122102.194778\n",
       "3       heading_accuracy   87425.364342\n",
       "21            aggression   87236.796174\n",
       "22         interceptions   86200.237791\n",
       "0              potential   63350.096326\n",
       "27       standing_tackle   53318.118658\n",
       "18               stamina   52436.871880\n",
       "19              strength   43885.662641\n",
       "31            gk_kicking   41625.077892\n",
       "26               marking   41029.399954\n",
       "28        sliding_tackle   36762.099072\n",
       "12          sprint_speed   27532.455149\n",
       "11          acceleration   27500.683044\n",
       "13               agility   27337.707550\n",
       "17               jumping   22828.634762\n",
       "15               balance   13211.298932\n",
       "33           gk_reflexes   11739.099112\n",
       "30           gk_handling   10336.628700\n",
       "32        gk_positioning    9729.880011\n",
       "29             gk_diving    9075.903555\n",
       "34   preferred_foot_left     363.816875\n",
       "35  preferred_foot_right     117.715226"
      ]
     },
     "execution_count": 128,
     "metadata": {},
     "output_type": "execute_result"
    }
   ],
   "source": [
    "feature_score.sort_values(by = 'Score', ascending=False)\n"
   ]
  },
  {
   "cell_type": "markdown",
   "metadata": {},
   "source": [
    "# ***Step 5: `Data Standardization and Normalization`***"
   ]
  },
  {
   "cell_type": "code",
   "execution_count": 129,
   "metadata": {},
   "outputs": [],
   "source": [
    "old_scale_x = x.copy()\n",
    "new_scale_x = new_x.copy()\n",
    "def min_max_scale(col, scale_x):\n",
    "    scale = MinMaxScaler()\n",
    "    scale_x[col] = scale.fit_transform(scale_x[[col]])\n",
    "    return scale_x\n",
    "\n",
    "for col in old_scale_x.columns:\n",
    "    old_scale_x = min_max_scale(col, old_scale_x)\n",
    "    \n",
    "for col in new_scale_x.columns:\n",
    "    new_scale_x = min_max_scale(col, new_scale_x)"
   ]
  },
  {
   "cell_type": "markdown",
   "metadata": {},
   "source": [
    "- **`old_scale_x`**:- **`with all the features`**\n",
    "- **`new_scale_x`**:- **`without all the features`**"
   ]
  },
  {
   "cell_type": "markdown",
   "metadata": {},
   "source": [
    "## **Cross Validation of Linear Regression Model**"
   ]
  },
  {
   "cell_type": "markdown",
   "metadata": {},
   "source": [
    "- Cross validation `with all the features` including categorical"
   ]
  },
  {
   "cell_type": "code",
   "execution_count": 130,
   "metadata": {},
   "outputs": [
    {
     "data": {
      "text/plain": [
       "(2.789950465623008, 0.011207944729066551)"
      ]
     },
     "execution_count": 130,
     "metadata": {},
     "output_type": "execute_result"
    }
   ],
   "source": [
    "lr = LinearRegression()\n",
    "kf = KFold(n_splits = 5, shuffle = True)\n",
    "mse = cross_val_score(lr, old_scale_x, y, cv=5, scoring='neg_mean_squared_error')\n",
    "rmse = np.sqrt(abs(mse))\n",
    "np.mean(rmse), np.std(rmse)"
   ]
  },
  {
   "cell_type": "markdown",
   "metadata": {},
   "source": [
    "- Cross validation `without categorical features`"
   ]
  },
  {
   "cell_type": "code",
   "execution_count": 131,
   "metadata": {},
   "outputs": [
    {
     "data": {
      "text/plain": [
       "(2.8129869560017986, 0.01296327442624825)"
      ]
     },
     "execution_count": 131,
     "metadata": {},
     "output_type": "execute_result"
    }
   ],
   "source": [
    "lr = LinearRegression()\n",
    "kf = KFold(n_splits= 5, shuffle = True)\n",
    "mse = cross_val_score(lr, new_scale_x, y, cv=5, scoring='neg_mean_squared_error')\n",
    "rmse = np.sqrt(abs(mse))\n",
    "np.mean(rmse), np.std(rmse)"
   ]
  },
  {
   "cell_type": "markdown",
   "metadata": {},
   "source": [
    "- There is `very little to no. sign of overfitting`\n",
    "- There is very limited effect of excluding categorical features. **Bias error is increased by 0.02** and **variance error decreases by 0.001**. This may be due to the fact that the columns we have excluded are having higher amount of multicollinearity."
   ]
  },
  {
   "cell_type": "markdown",
   "metadata": {},
   "source": [
    "# ***Step 6: `Model Training using ML Algorithm tested above`***"
   ]
  },
  {
   "cell_type": "markdown",
   "metadata": {},
   "source": [
    "## **(a). Fitting a Base `Linear Regression` Model**"
   ]
  },
  {
   "cell_type": "markdown",
   "metadata": {},
   "source": [
    "### LR model with all features"
   ]
  },
  {
   "cell_type": "code",
   "execution_count": 132,
   "metadata": {},
   "outputs": [],
   "source": [
    "x_train, x_test, y_train, y_test = train_test_split(old_scale_x, y, test_size=0.2, random_state=42)"
   ]
  },
  {
   "cell_type": "code",
   "execution_count": 133,
   "metadata": {},
   "outputs": [
    {
     "name": "stdout",
     "output_type": "stream",
     "text": [
      "Train R2_sq :  0.8434002392801642\n",
      "Test R2_Sq  :  0.8434564308592389\n",
      "Train RMSE  :  2.786091188117233\n",
      "Test RMSE   :  2.7645181597823005\n"
     ]
    }
   ],
   "source": [
    "lr = LinearRegression()\n",
    "lr.fit(x_train, y_train)\n",
    "\n",
    "y_train_pred = lr.predict(x_train)\n",
    "y_test_pred = lr.predict(x_test)\n",
    "\n",
    "print('Train R2_sq : ',r2_score(y_train, y_train_pred))\n",
    "print('Test R2_Sq  : ',r2_score(y_test, y_test_pred))\n",
    "\n",
    "print('Train RMSE  : ',mean_squared_error(y_train, y_train_pred)**0.5)\n",
    "print('Test RMSE   : ',mean_squared_error(y_test, y_test_pred)**0.5)"
   ]
  },
  {
   "cell_type": "markdown",
   "metadata": {},
   "source": [
    "### LR model without categorical features"
   ]
  },
  {
   "cell_type": "code",
   "execution_count": 134,
   "metadata": {},
   "outputs": [],
   "source": [
    "x_train, x_test, y_train, y_test = train_test_split(new_scale_x, y, test_size=0.2, random_state=42)"
   ]
  },
  {
   "cell_type": "code",
   "execution_count": 135,
   "metadata": {},
   "outputs": [
    {
     "name": "stdout",
     "output_type": "stream",
     "text": [
      "Train R2_sq :  0.840822115437255\n",
      "Test R2_sq  :  0.8408897109725587\n",
      "Train RMSE  :  2.8089314713340414\n",
      "Test RMSE   :  2.787089811873565\n"
     ]
    }
   ],
   "source": [
    "lr = LinearRegression()\n",
    "lr.fit(x_train, y_train)\n",
    "\n",
    "y_train_pred = lr.predict(x_train)\n",
    "y_test_pred = lr.predict(x_test)\n",
    "\n",
    "print('Train R2_sq : ',r2_score(y_train, y_train_pred))\n",
    "print('Test R2_sq  : ',r2_score(y_test, y_test_pred))\n",
    "\n",
    "print('Train RMSE  : ',mean_squared_error(y_train, y_train_pred)**0.5)\n",
    "print('Test RMSE   : ',mean_squared_error(y_test, y_test_pred)**0.5)"
   ]
  },
  {
   "cell_type": "markdown",
   "metadata": {},
   "source": [
    "- **R2_score** and **RMSE** of train and test data are `almost equal inferencing that the model is not overfit`."
   ]
  },
  {
   "cell_type": "markdown",
   "metadata": {},
   "source": [
    "## **Regularization**\n"
   ]
  },
  {
   "cell_type": "markdown",
   "metadata": {},
   "source": [
    "### **1. `Lasso Regression`**\n",
    "- LassoCV will return `best alpha` and `coeff`. after performing 10 CV"
   ]
  },
  {
   "cell_type": "code",
   "execution_count": 136,
   "metadata": {},
   "outputs": [],
   "source": [
    "lasscv = LassoCV(alphas = None, cv = 10, max_iter = 1000, normalize = True)\n",
    "lasscv.fit(x_train, y_train)\n",
    "\n",
    "# best alpha parameter\n",
    "alpha = lasscv.alpha_"
   ]
  },
  {
   "cell_type": "markdown",
   "metadata": {},
   "source": [
    "- now that we have best parameter\n",
    "- let's use lasso Regression and see how well our data had fitted before"
   ]
  },
  {
   "cell_type": "code",
   "execution_count": 137,
   "metadata": {},
   "outputs": [
    {
     "name": "stdout",
     "output_type": "stream",
     "text": [
      "Score for train :   0.8408220887007507\n",
      "Score for test  :   0.8408899252477059\n"
     ]
    }
   ],
   "source": [
    "lass_reg = Lasso(alpha)\n",
    "lass_reg.fit(x_train, y_train)\n",
    "\n",
    "# Checking Lasso Score\n",
    "\n",
    "print(\"Score for train :  \",lass_reg.score(x_train, y_train))\n",
    "print(\"Score for test  :  \",lass_reg.score(x_test, y_test))"
   ]
  },
  {
   "cell_type": "markdown",
   "metadata": {},
   "source": [
    "### **2. `Ridge Regression`**\n",
    "- RidgeCV will return best `alpha` and `coeff`. after performing 10 CV\n",
    "- We will pass an array of random numbers for ridgeCV to select best alpha from them"
   ]
  },
  {
   "cell_type": "code",
   "execution_count": 138,
   "metadata": {},
   "outputs": [],
   "source": [
    "alpha = np.random.uniform(low = 0, high = 10, size = (50,))\n",
    "ridgecv = RidgeCV(alphas = alpha, cv = 10 , normalize=True)\n",
    "ridgecv.fit(x_train, y_train)\n",
    "\n",
    "# best alpha parameter\n",
    "alpha = ridgecv.alpha_"
   ]
  },
  {
   "cell_type": "markdown",
   "metadata": {},
   "source": [
    "- now that we have best parameter\n",
    "- let's use Ridge Regression and see how well our data had fitted before"
   ]
  },
  {
   "cell_type": "code",
   "execution_count": 139,
   "metadata": {},
   "outputs": [
    {
     "name": "stdout",
     "output_type": "stream",
     "text": [
      "Score for train :   0.8408221095465824\n",
      "Score for test  :   0.8408898138480743\n"
     ]
    }
   ],
   "source": [
    "ridge_reg = Ridge(alpha = alpha)\n",
    "ridge_reg.fit(x_train, y_train)\n",
    "\n",
    "# Checking Ridge Score\n",
    "\n",
    "print(\"Score for train :  \",ridge_reg.score(x_train, y_train))\n",
    "print(\"Score for test  :  \",ridge_reg.score(x_test, y_test))"
   ]
  },
  {
   "cell_type": "markdown",
   "metadata": {},
   "source": [
    "#### **Conclusion:-** \n",
    "- After using `Linear Regression` and `Regularization` the result is **not getting improve**, since the `already the model is very rightly fit`."
   ]
  },
  {
   "cell_type": "markdown",
   "metadata": {},
   "source": [
    "## **(b). `Decision Tree`** :"
   ]
  },
  {
   "cell_type": "code",
   "execution_count": 140,
   "metadata": {},
   "outputs": [],
   "source": [
    "x_train, x_test, y_train, y_test = train_test_split(x, y, test_size=0.2, random_state=42)"
   ]
  },
  {
   "cell_type": "code",
   "execution_count": 141,
   "metadata": {},
   "outputs": [
    {
     "data": {
      "text/plain": [
       "DecisionTreeRegressor(random_state=0)"
      ]
     },
     "execution_count": 141,
     "metadata": {},
     "output_type": "execute_result"
    }
   ],
   "source": [
    "dtr = DecisionTreeRegressor(criterion='mse', random_state=0)         # estimator\n",
    "dtr.fit(x_train, y_train)"
   ]
  },
  {
   "cell_type": "code",
   "execution_count": 145,
   "metadata": {},
   "outputs": [
    {
     "name": "stdout",
     "output_type": "stream",
     "text": [
      "Test Score  :  0.9630732301250928\n",
      "Train Score :  0.9993795144890845\n"
     ]
    }
   ],
   "source": [
    "x_test_pred = dtr.predict(x_test)\n",
    "x_train_pred = dtr.predict(x_train)\n",
    "\n",
    "print(\"Test Score  : \",r2_score(x_test_pred, y_test))\n",
    "print(\"Train Score : \",r2_score(x_train_pred, y_train))"
   ]
  },
  {
   "cell_type": "markdown",
   "metadata": {},
   "source": [
    "### **Hyper-parameter tuning to achieve a better accuracy**"
   ]
  },
  {
   "cell_type": "code",
   "execution_count": 147,
   "metadata": {},
   "outputs": [
    {
     "data": {
      "text/plain": [
       "GridSearchCV(cv=ShuffleSplit(n_splits=10, random_state=42, test_size=None, train_size=None),\n",
       "             estimator=DecisionTreeRegressor(random_state=0),\n",
       "             param_grid={'criterion': ['mse', 'friedman_mse'],\n",
       "                         'max_depth': [3, 5, 7, 9, 13]})"
      ]
     },
     "execution_count": 147,
     "metadata": {},
     "output_type": "execute_result"
    }
   ],
   "source": [
    "cv = ShuffleSplit(n_splits = 10, random_state = 42)        #cross validation\n",
    "\n",
    "param_grid = {'max_depth': [3, 5, 7, 9, 13],\n",
    "             'criterion': ['mse', 'friedman_mse']}\n",
    "\n",
    "grid = GridSearchCV(dtr, param_grid = param_grid, cv = cv)\n",
    "\n",
    "grid.fit(x_train, y_train)    #training"
   ]
  },
  {
   "cell_type": "code",
   "execution_count": 148,
   "metadata": {},
   "outputs": [
    {
     "data": {
      "text/plain": [
       "{'criterion': 'friedman_mse', 'max_depth': 13}"
      ]
     },
     "execution_count": 148,
     "metadata": {},
     "output_type": "execute_result"
    }
   ],
   "source": [
    "grid.best_params_"
   ]
  },
  {
   "cell_type": "code",
   "execution_count": 149,
   "metadata": {},
   "outputs": [
    {
     "data": {
      "text/plain": [
       "DecisionTreeRegressor(criterion='friedman_mse', max_depth=13, random_state=0)"
      ]
     },
     "execution_count": 149,
     "metadata": {},
     "output_type": "execute_result"
    }
   ],
   "source": [
    "grid.best_estimator_"
   ]
  },
  {
   "cell_type": "code",
   "execution_count": 150,
   "metadata": {},
   "outputs": [
    {
     "data": {
      "text/plain": [
       "DecisionTreeRegressor(criterion='friedman_mse', max_depth=13, random_state=0)"
      ]
     },
     "execution_count": 150,
     "metadata": {},
     "output_type": "execute_result"
    }
   ],
   "source": [
    "new_dtr = DecisionTreeRegressor(criterion='friedman_mse', max_depth=13,\n",
    "         random_state=0)\n",
    "new_dtr.fit(x_train, y_train)"
   ]
  },
  {
   "cell_type": "code",
   "execution_count": 151,
   "metadata": {},
   "outputs": [
    {
     "name": "stdout",
     "output_type": "stream",
     "text": [
      "DecisionTreeRegressor Score :  0.9337927572749775\n"
     ]
    }
   ],
   "source": [
    "print(\"DecisionTreeRegressor Score : \",new_dtr.score(x_test, y_test))"
   ]
  },
  {
   "cell_type": "markdown",
   "metadata": {},
   "source": [
    "## **(c). `Random Forest`:**"
   ]
  },
  {
   "cell_type": "code",
   "execution_count": 152,
   "metadata": {},
   "outputs": [
    {
     "data": {
      "text/plain": [
       "RandomForestRegressor(random_state=123)"
      ]
     },
     "execution_count": 152,
     "metadata": {},
     "output_type": "execute_result"
    }
   ],
   "source": [
    "rand_forest = RandomForestRegressor(random_state=123)\n",
    "rand_forest.fit(x_train, y_train)"
   ]
  },
  {
   "cell_type": "code",
   "execution_count": 153,
   "metadata": {},
   "outputs": [
    {
     "name": "stdout",
     "output_type": "stream",
     "text": [
      "Test Score  :  0.9824391637931486\n",
      "Train Score :  0.9971521233946284\n"
     ]
    }
   ],
   "source": [
    "x_test_pred = rand_forest.predict(x_test)\n",
    "x_train_pred = rand_forest.predict(x_train)\n",
    "\n",
    "print(\"Test Score  : \",r2_score(x_test_pred, y_test))\n",
    "print(\"Train Score : \",r2_score(x_train_pred, y_train))"
   ]
  },
  {
   "cell_type": "markdown",
   "metadata": {},
   "source": [
    "### **Hyper-parameter tuning to achieve a better accuracy**"
   ]
  },
  {
   "cell_type": "code",
   "execution_count": 167,
   "metadata": {},
   "outputs": [
    {
     "data": {
      "text/plain": [
       "GridSearchCV(cv=ShuffleSplit(n_splits=10, random_state=0, test_size=0.2, train_size=None),\n",
       "             estimator=RandomForestRegressor(random_state=123),\n",
       "             param_grid={'max_depth': [9, 11, 13],\n",
       "                         'max_features': ['sqrt', 'log2', 10]})"
      ]
     },
     "execution_count": 167,
     "metadata": {},
     "output_type": "execute_result"
    }
   ],
   "source": [
    "cv = ShuffleSplit(test_size=0.2, random_state=0)\n",
    "\n",
    "param_grid = {'max_features':['sqrt', 'log2', 10],\n",
    "              'max_depth':[9, 11, 13]}                 \n",
    "\n",
    "grid = GridSearchCV(rand_forest, param_grid = param_grid, cv=cv)\n",
    "grid.fit(x_train, y_train)"
   ]
  },
  {
   "cell_type": "code",
   "execution_count": 168,
   "metadata": {},
   "outputs": [
    {
     "data": {
      "text/plain": [
       "RandomForestRegressor(max_depth=13, max_features=10, random_state=123)"
      ]
     },
     "execution_count": 168,
     "metadata": {},
     "output_type": "execute_result"
    }
   ],
   "source": [
    "grid.best_estimator_"
   ]
  },
  {
   "cell_type": "code",
   "execution_count": 169,
   "metadata": {},
   "outputs": [
    {
     "data": {
      "text/plain": [
       "RandomForestRegressor(max_depth=13, max_features=10, random_state=123)"
      ]
     },
     "execution_count": 169,
     "metadata": {},
     "output_type": "execute_result"
    }
   ],
   "source": [
    "new_rand_forest = RandomForestRegressor(max_depth=13, max_features=10, random_state=123)\n",
    "new_rand_forest.fit(x_train, y_train)"
   ]
  },
  {
   "cell_type": "code",
   "execution_count": 170,
   "metadata": {},
   "outputs": [
    {
     "name": "stdout",
     "output_type": "stream",
     "text": [
      "RandomForestRegressor Score:-  0.9653570606514186\n"
     ]
    }
   ],
   "source": [
    "print(\"RandomForestRegressor Score:- \",new_rand_forest.score(x_test, y_test))"
   ]
  },
  {
   "cell_type": "markdown",
   "metadata": {},
   "source": [
    "## **(d). `Xgboost Regressor`:**"
   ]
  },
  {
   "cell_type": "code",
   "execution_count": 155,
   "metadata": {},
   "outputs": [
    {
     "data": {
      "text/plain": [
       "XGBRegressor(base_score=0.5, booster='gbtree', colsample_bylevel=1,\n",
       "             colsample_bynode=1, colsample_bytree=1, gamma=0, gpu_id=-1,\n",
       "             importance_type='gain', interaction_constraints='',\n",
       "             learning_rate=0.300000012, max_delta_step=0, max_depth=6,\n",
       "             min_child_weight=1, missing=nan, monotone_constraints='()',\n",
       "             n_estimators=100, n_jobs=0, num_parallel_tree=1, random_state=42,\n",
       "             reg_alpha=0, reg_lambda=1, scale_pos_weight=1, subsample=1,\n",
       "             tree_method='exact', validate_parameters=1, verbosity=None)"
      ]
     },
     "execution_count": 155,
     "metadata": {},
     "output_type": "execute_result"
    }
   ],
   "source": [
    "xgr = XGBRegressor(random_state = 42)\n",
    "xgr.fit(x_train, y_train)"
   ]
  },
  {
   "cell_type": "code",
   "execution_count": 156,
   "metadata": {},
   "outputs": [
    {
     "name": "stdout",
     "output_type": "stream",
     "text": [
      "Test Score  :  0.9704588632916579\n",
      "Train Score :  0.9758910419808559\n"
     ]
    }
   ],
   "source": [
    "x_test_pred = xgr.predict(x_test)\n",
    "x_train_pred = xgr.predict(x_train)\n",
    "\n",
    "print(\"Test Score  : \",r2_score(x_test_pred, y_test))\n",
    "print(\"Train Score : \",r2_score(x_train_pred, y_train))"
   ]
  },
  {
   "cell_type": "markdown",
   "metadata": {},
   "source": [
    "### **Hyper-parameter tuning to achieve a better accuracy**"
   ]
  },
  {
   "cell_type": "code",
   "execution_count": 157,
   "metadata": {},
   "outputs": [
    {
     "data": {
      "text/plain": [
       "GridSearchCV(cv=ShuffleSplit(n_splits=10, random_state=0, test_size=None, train_size=None),\n",
       "             estimator=XGBRegressor(base_score=0.5, booster='gbtree',\n",
       "                                    colsample_bylevel=1, colsample_bynode=1,\n",
       "                                    colsample_bytree=1, gamma=0, gpu_id=-1,\n",
       "                                    importance_type='gain',\n",
       "                                    interaction_constraints='',\n",
       "                                    learning_rate=0.300000012, max_delta_step=0,\n",
       "                                    max_depth=6, min_child_weight=1,\n",
       "                                    missing=nan, monotone_constraints='()',\n",
       "                                    n_estimators=100, n_jobs=0,\n",
       "                                    num_parallel_tree=1, random_state=42,\n",
       "                                    reg_alpha=0, reg_lambda=1,\n",
       "                                    scale_pos_weight=1, subsample=1,\n",
       "                                    tree_method='exact', validate_parameters=1,\n",
       "                                    verbosity=None),\n",
       "             n_jobs=-1,\n",
       "             param_grid={'learning_rate': [0.1, 0.3], 'max_depth': [5, 7]})"
      ]
     },
     "execution_count": 157,
     "metadata": {},
     "output_type": "execute_result"
    }
   ],
   "source": [
    "cv = ShuffleSplit(n_splits=10, random_state=0)\n",
    "\n",
    "param_grid = {'max_depth': [5, 7],\n",
    "              'learning_rate': [0.1, 0.3]}\n",
    "\n",
    "grid = GridSearchCV(xgr, param_grid=param_grid, cv=cv, n_jobs= -1)\n",
    "grid.fit(x_train, y_train)"
   ]
  },
  {
   "cell_type": "code",
   "execution_count": 164,
   "metadata": {},
   "outputs": [
    {
     "data": {
      "text/plain": [
       "XGBRegressor(base_score=0.5, booster='gbtree', colsample_bylevel=1,\n",
       "             colsample_bynode=1, colsample_bytree=1, gamma=0, gpu_id=-1,\n",
       "             importance_type='gain', interaction_constraints='',\n",
       "             learning_rate=0.3, max_delta_step=0, max_depth=7,\n",
       "             min_child_weight=1, missing=nan, monotone_constraints='()',\n",
       "             n_estimators=100, n_jobs=0, num_parallel_tree=1, random_state=42,\n",
       "             reg_alpha=0, reg_lambda=1, scale_pos_weight=1, subsample=1,\n",
       "             tree_method='exact', validate_parameters=1, verbosity=None)"
      ]
     },
     "execution_count": 164,
     "metadata": {},
     "output_type": "execute_result"
    }
   ],
   "source": [
    "grid.best_estimator_"
   ]
  },
  {
   "cell_type": "code",
   "execution_count": 165,
   "metadata": {},
   "outputs": [
    {
     "data": {
      "text/plain": [
       "XGBRegressor(base_score=0.5, booster='gbtree', colsample_bylevel=1,\n",
       "             colsample_bynode=1, colsample_bytree=1, gamma=0, gpu_id=-1,\n",
       "             importance_type='gain', interaction_constraints='',\n",
       "             learning_rate=0.3, max_delta_step=0, max_depth=7,\n",
       "             min_child_weight=1, missing=None, monotone_constraints='()',\n",
       "             n_estimators=100, n_jobs=0, num_parallel_tree=1, random_state=42,\n",
       "             reg_alpha=0, reg_lambda=1, scale_pos_weight=1, subsample=1,\n",
       "             tree_method='exact', validate_parameters=1, verbosity=None)"
      ]
     },
     "execution_count": 165,
     "metadata": {},
     "output_type": "execute_result"
    }
   ],
   "source": [
    "new_xgr = XGBRegressor(base_score=0.5, booster='gbtree', colsample_bylevel=1,\n",
    "             colsample_bynode=1, colsample_bytree=1, gamma=0, gpu_id=-1,\n",
    "             importance_type='gain', interaction_constraints='',\n",
    "             learning_rate=0.3, max_delta_step=0, max_depth=7,\n",
    "             min_child_weight=1, missing=None, monotone_constraints='()',\n",
    "             n_estimators=100, n_jobs=0, num_parallel_tree=1, random_state=42,\n",
    "             reg_alpha=0, reg_lambda=1, scale_pos_weight=1, subsample=1,\n",
    "             tree_method='exact', validate_parameters=1, verbosity=None)\n",
    "new_xgr.fit(x_train, y_train)"
   ]
  },
  {
   "cell_type": "code",
   "execution_count": 166,
   "metadata": {},
   "outputs": [
    {
     "name": "stdout",
     "output_type": "stream",
     "text": [
      "XGBRegressor Score:  0.9746457155035143\n"
     ]
    }
   ],
   "source": [
    "print(\"XGBRegressor Score: \",new_xgr.score(x_test, y_test))"
   ]
  },
  {
   "cell_type": "markdown",
   "metadata": {},
   "source": [
    "## **`Final Score With Hyperparameter Tuning`**"
   ]
  },
  {
   "cell_type": "code",
   "execution_count": 171,
   "metadata": {},
   "outputs": [
    {
     "name": "stdout",
     "output_type": "stream",
     "text": [
      "Decision Tree Regressor Score  :  0.9337927572749775\n",
      "Random Forest Regressor Score  :  0.9653570606514186\n",
      "XGB Regressor Score            :  0.9746457155035143\n"
     ]
    }
   ],
   "source": [
    "print(\"Decision Tree Regressor Score  : \",new_dtr.score(x_test, y_test))\n",
    "print(\"Random Forest Regressor Score  : \",new_rand_forest.score(x_test, y_test))\n",
    "print(\"XGB Regressor Score            : \",new_xgr.score(x_test, y_test))"
   ]
  },
  {
   "cell_type": "markdown",
   "metadata": {},
   "source": [
    "#### **Conclusion:-**\n",
    "- By accuracy comparision performed above we can say here that `XGB Regressor` gives better result than any other model. and it can predict the target function with approx `97% accuracy`."
   ]
  },
  {
   "cell_type": "code",
   "execution_count": null,
   "metadata": {},
   "outputs": [],
   "source": []
  }
 ],
 "metadata": {
  "kernelspec": {
   "display_name": "Python 3",
   "language": "python",
   "name": "python3"
  },
  "language_info": {
   "codemirror_mode": {
    "name": "ipython",
    "version": 3
   },
   "file_extension": ".py",
   "mimetype": "text/x-python",
   "name": "python",
   "nbconvert_exporter": "python",
   "pygments_lexer": "ipython3",
   "version": "3.8.1"
  }
 },
 "nbformat": 4,
 "nbformat_minor": 4
}
